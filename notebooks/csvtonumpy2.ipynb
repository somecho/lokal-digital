{
 "cells": [
  {
   "cell_type": "code",
   "execution_count": 1,
   "metadata": {},
   "outputs": [],
   "source": [
    "import pandas as pd\n",
    "import numpy as np\n"
   ]
  },
  {
   "cell_type": "code",
   "execution_count": 18,
   "metadata": {},
   "outputs": [],
   "source": [
    "csv_data = pd.read_csv(\"../datasets/audio_data.csv\")"
   ]
  },
  {
   "cell_type": "code",
   "execution_count": 19,
   "metadata": {},
   "outputs": [],
   "source": [
    "data = csv_data.to_numpy()"
   ]
  },
  {
   "cell_type": "code",
   "execution_count": 7,
   "metadata": {},
   "outputs": [],
   "source": [
    "csv_data = csv_data.drop(index=0,axis=0)"
   ]
  },
  {
   "cell_type": "code",
   "execution_count": 11,
   "metadata": {},
   "outputs": [],
   "source": [
    "temp = pd.read_csv(\"data.csv\")"
   ]
  },
  {
   "cell_type": "code",
   "execution_count": 20,
   "metadata": {},
   "outputs": [],
   "source": [
    "num_dirs = data[:,49]\n",
    "deposit_amt = data[:,50]\n",
    "max_spd = data[:,51]\n",
    "max_frc=data[:,52]\n",
    "dec_rate=data[:,53]\n",
    "sense_dist=data[:,54]\n",
    "slope_step=data[:,55]\n",
    "disp_size=data[:,56]"
   ]
  },
  {
   "cell_type": "code",
   "execution_count": 21,
   "metadata": {},
   "outputs": [],
   "source": [
    "num_dirs = np.delete(num_dirs, (0), axis=0)\n",
    "deposit_amt = np.delete(deposit_amt, (0), axis=0)\n",
    "max_spd = np.delete(max_spd, (0), axis=0)\n",
    "max_frc = np.delete(max_frc, (0), axis=0)\n",
    "dec_rate = np.delete(dec_rate, (0), axis=0)\n",
    "sense_dist = np.delete(sense_dist, (0), axis=0)\n",
    "slope_step = np.delete(slope_step, (0), axis=0)\n",
    "disp_size = np.delete(disp_size, (0), axis=0)"
   ]
  },
  {
   "cell_type": "code",
   "execution_count": 26,
   "metadata": {},
   "outputs": [
    {
     "data": {
      "text/plain": [
       "2.0"
      ]
     },
     "execution_count": 26,
     "metadata": {},
     "output_type": "execute_result"
    }
   ],
   "source": [
    "num_dirs[0]"
   ]
  },
  {
   "cell_type": "code",
   "execution_count": 22,
   "metadata": {},
   "outputs": [],
   "source": [
    "x = data[:,:49]"
   ]
  },
  {
   "cell_type": "code",
   "execution_count": 11,
   "metadata": {},
   "outputs": [
    {
     "data": {
      "text/html": [
       "<div>\n",
       "<style scoped>\n",
       "    .dataframe tbody tr th:only-of-type {\n",
       "        vertical-align: middle;\n",
       "    }\n",
       "\n",
       "    .dataframe tbody tr th {\n",
       "        vertical-align: top;\n",
       "    }\n",
       "\n",
       "    .dataframe thead th {\n",
       "        text-align: right;\n",
       "    }\n",
       "</style>\n",
       "<table border=\"1\" class=\"dataframe\">\n",
       "  <thead>\n",
       "    <tr style=\"text-align: right;\">\n",
       "      <th></th>\n",
       "      <th>avg_onset</th>\n",
       "      <th>spec_centroid</th>\n",
       "      <th>mfcc1</th>\n",
       "      <th>mfcc2</th>\n",
       "      <th>mfcc3</th>\n",
       "      <th>mfcc4</th>\n",
       "      <th>mfcc5</th>\n",
       "      <th>mfcc6</th>\n",
       "      <th>mfcc7</th>\n",
       "      <th>mfcc8</th>\n",
       "      <th>...</th>\n",
       "      <th>spec_spread</th>\n",
       "      <th>spec_flux</th>\n",
       "      <th>num_dirs</th>\n",
       "      <th>deposit_amt</th>\n",
       "      <th>max_spd</th>\n",
       "      <th>max_frc</th>\n",
       "      <th>dec_rate</th>\n",
       "      <th>sense_dist</th>\n",
       "      <th>slope_step</th>\n",
       "      <th>disp_size</th>\n",
       "    </tr>\n",
       "  </thead>\n",
       "  <tbody>\n",
       "    <tr>\n",
       "      <th>1</th>\n",
       "      <td>1466.093018</td>\n",
       "      <td>1923.234009</td>\n",
       "      <td>0.0</td>\n",
       "      <td>0.333913</td>\n",
       "      <td>0.443973</td>\n",
       "      <td>0.336422</td>\n",
       "      <td>0.335821</td>\n",
       "      <td>0.283703</td>\n",
       "      <td>0.283886</td>\n",
       "      <td>0.273554</td>\n",
       "      <td>...</td>\n",
       "      <td>4423.216309</td>\n",
       "      <td>1.26222</td>\n",
       "      <td>2</td>\n",
       "      <td>8</td>\n",
       "      <td>6</td>\n",
       "      <td>6</td>\n",
       "      <td>4</td>\n",
       "      <td>3</td>\n",
       "      <td>1</td>\n",
       "      <td>1</td>\n",
       "    </tr>\n",
       "    <tr>\n",
       "      <th>2</th>\n",
       "      <td>1466.093018</td>\n",
       "      <td>1923.234009</td>\n",
       "      <td>0.0</td>\n",
       "      <td>0.333913</td>\n",
       "      <td>0.443973</td>\n",
       "      <td>0.336422</td>\n",
       "      <td>0.335821</td>\n",
       "      <td>0.283703</td>\n",
       "      <td>0.283886</td>\n",
       "      <td>0.273554</td>\n",
       "      <td>...</td>\n",
       "      <td>4423.216309</td>\n",
       "      <td>1.26222</td>\n",
       "      <td>2</td>\n",
       "      <td>8</td>\n",
       "      <td>6</td>\n",
       "      <td>6</td>\n",
       "      <td>4</td>\n",
       "      <td>3</td>\n",
       "      <td>1</td>\n",
       "      <td>1</td>\n",
       "    </tr>\n",
       "    <tr>\n",
       "      <th>3</th>\n",
       "      <td>1466.093018</td>\n",
       "      <td>1923.234009</td>\n",
       "      <td>0.0</td>\n",
       "      <td>0.333913</td>\n",
       "      <td>0.443973</td>\n",
       "      <td>0.336422</td>\n",
       "      <td>0.335821</td>\n",
       "      <td>0.283703</td>\n",
       "      <td>0.283886</td>\n",
       "      <td>0.273554</td>\n",
       "      <td>...</td>\n",
       "      <td>4423.216309</td>\n",
       "      <td>1.26222</td>\n",
       "      <td>2</td>\n",
       "      <td>8</td>\n",
       "      <td>6</td>\n",
       "      <td>6</td>\n",
       "      <td>4</td>\n",
       "      <td>3</td>\n",
       "      <td>1</td>\n",
       "      <td>1</td>\n",
       "    </tr>\n",
       "    <tr>\n",
       "      <th>4</th>\n",
       "      <td>1466.093018</td>\n",
       "      <td>1923.234009</td>\n",
       "      <td>0.0</td>\n",
       "      <td>0.333913</td>\n",
       "      <td>0.443973</td>\n",
       "      <td>0.336422</td>\n",
       "      <td>0.335821</td>\n",
       "      <td>0.283703</td>\n",
       "      <td>0.283886</td>\n",
       "      <td>0.273554</td>\n",
       "      <td>...</td>\n",
       "      <td>4423.216309</td>\n",
       "      <td>1.26222</td>\n",
       "      <td>2</td>\n",
       "      <td>8</td>\n",
       "      <td>6</td>\n",
       "      <td>6</td>\n",
       "      <td>4</td>\n",
       "      <td>3</td>\n",
       "      <td>1</td>\n",
       "      <td>1</td>\n",
       "    </tr>\n",
       "    <tr>\n",
       "      <th>5</th>\n",
       "      <td>1466.093018</td>\n",
       "      <td>1923.234009</td>\n",
       "      <td>0.0</td>\n",
       "      <td>0.333913</td>\n",
       "      <td>0.443973</td>\n",
       "      <td>0.336422</td>\n",
       "      <td>0.335821</td>\n",
       "      <td>0.283703</td>\n",
       "      <td>0.283886</td>\n",
       "      <td>0.273554</td>\n",
       "      <td>...</td>\n",
       "      <td>4423.216309</td>\n",
       "      <td>1.26222</td>\n",
       "      <td>2</td>\n",
       "      <td>8</td>\n",
       "      <td>6</td>\n",
       "      <td>6</td>\n",
       "      <td>4</td>\n",
       "      <td>3</td>\n",
       "      <td>1</td>\n",
       "      <td>1</td>\n",
       "    </tr>\n",
       "  </tbody>\n",
       "</table>\n",
       "<p>5 rows × 57 columns</p>\n",
       "</div>"
      ],
      "text/plain": [
       "     avg_onset  spec_centroid  mfcc1     mfcc2     mfcc3     mfcc4     mfcc5  \\\n",
       "1  1466.093018    1923.234009    0.0  0.333913  0.443973  0.336422  0.335821   \n",
       "2  1466.093018    1923.234009    0.0  0.333913  0.443973  0.336422  0.335821   \n",
       "3  1466.093018    1923.234009    0.0  0.333913  0.443973  0.336422  0.335821   \n",
       "4  1466.093018    1923.234009    0.0  0.333913  0.443973  0.336422  0.335821   \n",
       "5  1466.093018    1923.234009    0.0  0.333913  0.443973  0.336422  0.335821   \n",
       "\n",
       "      mfcc6     mfcc7     mfcc8  ...  spec_spread  spec_flux  num_dirs  \\\n",
       "1  0.283703  0.283886  0.273554  ...  4423.216309    1.26222         2   \n",
       "2  0.283703  0.283886  0.273554  ...  4423.216309    1.26222         2   \n",
       "3  0.283703  0.283886  0.273554  ...  4423.216309    1.26222         2   \n",
       "4  0.283703  0.283886  0.273554  ...  4423.216309    1.26222         2   \n",
       "5  0.283703  0.283886  0.273554  ...  4423.216309    1.26222         2   \n",
       "\n",
       "   deposit_amt  max_spd  max_frc  dec_rate  sense_dist  slope_step  disp_size  \n",
       "1            8        6        6         4           3           1          1  \n",
       "2            8        6        6         4           3           1          1  \n",
       "3            8        6        6         4           3           1          1  \n",
       "4            8        6        6         4           3           1          1  \n",
       "5            8        6        6         4           3           1          1  \n",
       "\n",
       "[5 rows x 57 columns]"
      ]
     },
     "execution_count": 11,
     "metadata": {},
     "output_type": "execute_result"
    }
   ],
   "source": [
    "csv_data.head()"
   ]
  },
  {
   "cell_type": "code",
   "execution_count": 23,
   "metadata": {},
   "outputs": [],
   "source": [
    "x = np.delete(x, (0), axis=0)"
   ]
  },
  {
   "cell_type": "code",
   "execution_count": 24,
   "metadata": {},
   "outputs": [],
   "source": [
    "from sklearn.preprocessing import MinMaxScaler\n"
   ]
  },
  {
   "cell_type": "code",
   "execution_count": 25,
   "metadata": {},
   "outputs": [],
   "source": [
    "scaler = MinMaxScaler(feature_range=(0,1))\n",
    "x_norm = scaler.fit_transform(x)"
   ]
  },
  {
   "cell_type": "code",
   "execution_count": 26,
   "metadata": {},
   "outputs": [
    {
     "data": {
      "text/plain": [
       "(38046, 49)"
      ]
     },
     "execution_count": 26,
     "metadata": {},
     "output_type": "execute_result"
    }
   ],
   "source": [
    "x.shape"
   ]
  },
  {
   "cell_type": "code",
   "execution_count": 27,
   "metadata": {},
   "outputs": [
    {
     "data": {
      "text/plain": [
       "(38046,)"
      ]
     },
     "execution_count": 27,
     "metadata": {},
     "output_type": "execute_result"
    }
   ],
   "source": [
    "num_dirs.shape"
   ]
  },
  {
   "cell_type": "code",
   "execution_count": 28,
   "metadata": {},
   "outputs": [],
   "source": [
    "for i in range(len(num_dirs)):\n",
    "    num_dirs[i] = num_dirs[i] -1"
   ]
  },
  {
   "cell_type": "code",
   "execution_count": 13,
   "metadata": {},
   "outputs": [
    {
     "data": {
      "text/plain": [
       "Counter({0.0: 1316,\n",
       "         1.0: 1202,\n",
       "         2.0: 3953,\n",
       "         3.0: 2149,\n",
       "         4.0: 1570,\n",
       "         6.0: 1643,\n",
       "         7.0: 3434,\n",
       "         8.0: 4955,\n",
       "         9.0: 1467,\n",
       "         10.0: 1180,\n",
       "         12.0: 15177})"
      ]
     },
     "execution_count": 13,
     "metadata": {},
     "output_type": "execute_result"
    }
   ],
   "source": [
    "import collections\n",
    "collections.Counter(num_dirs)"
   ]
  },
  {
   "cell_type": "code",
   "execution_count": 29,
   "metadata": {},
   "outputs": [],
   "source": [
    "from sklearn.utils import shuffle"
   ]
  },
  {
   "cell_type": "code",
   "execution_count": 30,
   "metadata": {},
   "outputs": [],
   "source": [
    "x_norm, num_dirs, deposit_amt, max_spd, max_frc, dec_rate,sense_dist,slope_step,disp_size = shuffle(x_norm, num_dirs, deposit_amt, max_spd, max_frc, dec_rate,sense_dist,slope_step,disp_size)"
   ]
  },
  {
   "cell_type": "code",
   "execution_count": 31,
   "metadata": {},
   "outputs": [],
   "source": [
    "import tensorflow as tf\n",
    "from tensorflow import keras\n",
    "from tensorflow.python.keras.models import Sequential\n",
    "from tensorflow.python.keras.layers import Activation, Dense, LeakyReLU\n",
    "from tensorflow.python.keras.optimizers import Adam\n",
    "from tensorflow.python.keras.metrics import categorical_crossentropy"
   ]
  },
  {
   "cell_type": "code",
   "execution_count": 32,
   "metadata": {},
   "outputs": [],
   "source": [
    "from tensorflow.python.keras.callbacks import TensorBoard"
   ]
  },
  {
   "cell_type": "code",
   "execution_count": 33,
   "metadata": {},
   "outputs": [],
   "source": [
    "NAME =\"num_dir\"\n",
    "tensorboard = TensorBoard(log_dir=\"logs/{}\".format(NAME))"
   ]
  },
  {
   "cell_type": "code",
   "execution_count": 35,
   "metadata": {},
   "outputs": [],
   "source": [
    "train_x = x_norm\n",
    "train_num_dirs = num_dirs"
   ]
  },
  {
   "cell_type": "markdown",
   "metadata": {},
   "source": [
    "# NUM DIRECTIONS MODEL"
   ]
  },
  {
   "cell_type": "code",
   "execution_count": 34,
   "metadata": {},
   "outputs": [
    {
     "name": "stdout",
     "output_type": "stream",
     "text": [
      "WARNING:tensorflow:From /home/samuelc/python2env/lib/python2.7/site-packages/tensorflow/python/keras/_impl/keras/backend.py:1557: calling reduce_mean (from tensorflow.python.ops.math_ops) with keep_dims is deprecated and will be removed in a future version.\n",
      "Instructions for updating:\n",
      "keep_dims is deprecated, use keepdims instead\n",
      "WARNING:tensorflow:From /home/samuelc/python2env/lib/python2.7/site-packages/tensorflow/python/keras/_impl/keras/backend.py:1422: calling reduce_max (from tensorflow.python.ops.math_ops) with keep_dims is deprecated and will be removed in a future version.\n",
      "Instructions for updating:\n",
      "keep_dims is deprecated, use keepdims instead\n"
     ]
    }
   ],
   "source": [
    "num_dir_model = Sequential([\n",
    "    Dense(units=128, input_shape=(49,), activation='relu'),\n",
    "    Dense(units=256,activation='relu'),\n",
    "    Dense(units=512,activation='relu'),\n",
    "    Dense(units=13, activation='softmax')\n",
    "])\n",
    "num_dir_model.compile(optimizer=Adam(lr=0.0001),loss='sparse_categorical_crossentropy', metrics=['accuracy'])"
   ]
  },
  {
   "cell_type": "code",
   "execution_count": 36,
   "metadata": {
    "scrolled": true
   },
   "outputs": [
    {
     "name": "stdout",
     "output_type": "stream",
     "text": [
      "Train on 37665 samples, validate on 381 samples\n",
      "Epoch 1/20\n",
      " - 48s - loss: 1.4085 - acc: 0.5386 - val_loss: 1.1052 - val_acc: 0.6247\n",
      "Epoch 2/20\n",
      " - 49s - loss: 0.9955 - acc: 0.6688 - val_loss: 0.8905 - val_acc: 0.6850\n",
      "Epoch 3/20\n",
      " - 65s - loss: 0.8185 - acc: 0.7255 - val_loss: 0.7430 - val_acc: 0.7638\n",
      "Epoch 4/20\n",
      " - 60s - loss: 0.6848 - acc: 0.7702 - val_loss: 0.6362 - val_acc: 0.7822\n",
      "Epoch 5/20\n",
      " - 51s - loss: 0.5715 - acc: 0.8105 - val_loss: 0.5405 - val_acc: 0.8163\n",
      "Epoch 6/20\n",
      " - 51s - loss: 0.4789 - acc: 0.8421 - val_loss: 0.4360 - val_acc: 0.8766\n",
      "Epoch 7/20\n",
      " - 53s - loss: 0.4007 - acc: 0.8719 - val_loss: 0.3645 - val_acc: 0.8871\n",
      "Epoch 8/20\n",
      " - 50s - loss: 0.3396 - acc: 0.8953 - val_loss: 0.3003 - val_acc: 0.9265\n",
      "Epoch 9/20\n",
      " - 50s - loss: 0.2876 - acc: 0.9145 - val_loss: 0.2463 - val_acc: 0.9344\n",
      "Epoch 10/20\n",
      " - 53s - loss: 0.2463 - acc: 0.9292 - val_loss: 0.2302 - val_acc: 0.9318\n",
      "Epoch 11/20\n",
      " - 51s - loss: 0.2118 - acc: 0.9404 - val_loss: 0.2148 - val_acc: 0.9265\n",
      "Epoch 12/20\n",
      " - 52s - loss: 0.1820 - acc: 0.9509 - val_loss: 0.1974 - val_acc: 0.9501\n",
      "Epoch 13/20\n",
      " - 52s - loss: 0.1578 - acc: 0.9583 - val_loss: 0.1358 - val_acc: 0.9501\n",
      "Epoch 14/20\n",
      " - 54s - loss: 0.1390 - acc: 0.9651 - val_loss: 0.1060 - val_acc: 0.9790\n",
      "Epoch 15/20\n",
      " - 53s - loss: 0.1190 - acc: 0.9728 - val_loss: 0.1316 - val_acc: 0.9685\n",
      "Epoch 16/20\n",
      " - 58s - loss: 0.1049 - acc: 0.9763 - val_loss: 0.0918 - val_acc: 0.9869\n",
      "Epoch 17/20\n",
      " - 58s - loss: 0.0927 - acc: 0.9787 - val_loss: 0.1066 - val_acc: 0.9790\n",
      "Epoch 18/20\n",
      " - 53s - loss: 0.0835 - acc: 0.9811 - val_loss: 0.0792 - val_acc: 0.9738\n",
      "Epoch 19/20\n",
      " - 53s - loss: 0.0744 - acc: 0.9840 - val_loss: 0.0563 - val_acc: 0.9869\n",
      "Epoch 20/20\n",
      " - 57s - loss: 0.0659 - acc: 0.9860 - val_loss: 0.0666 - val_acc: 0.9843\n"
     ]
    },
    {
     "data": {
      "text/plain": [
       "<tensorflow.python.keras._impl.keras.callbacks.History at 0x7f9ed815ee10>"
      ]
     },
     "execution_count": 36,
     "metadata": {},
     "output_type": "execute_result"
    }
   ],
   "source": [
    "num_dir_model.fit(x=train_x,\n",
    "                  y=train_num_dirs,\n",
    "                  batch_size=10,\n",
    "                  verbose=2, \n",
    "                  validation_split=.01,\n",
    "                  epochs=20,\n",
    "                  callbacks=[tensorboard])"
   ]
  },
  {
   "cell_type": "code",
   "execution_count": 37,
   "metadata": {},
   "outputs": [],
   "source": [
    "num_dir_model.save('num_dir.h5')"
   ]
  },
  {
   "cell_type": "markdown",
   "metadata": {},
   "source": [
    "# DEPOSIT AMOUNT MODEL"
   ]
  },
  {
   "cell_type": "code",
   "execution_count": 38,
   "metadata": {},
   "outputs": [],
   "source": [
    "for i in range(len(deposit_amt)):\n",
    "    deposit_amt[i] = deposit_amt[i] -1"
   ]
  },
  {
   "cell_type": "code",
   "execution_count": 39,
   "metadata": {},
   "outputs": [],
   "source": [
    "train_deposit_amt = deposit_amt"
   ]
  },
  {
   "cell_type": "code",
   "execution_count": 40,
   "metadata": {},
   "outputs": [],
   "source": [
    "NAME2 =\"deposit_amt\"\n",
    "tensorboard2 = TensorBoard(log_dir=\"logs/{}\".format(NAME2))"
   ]
  },
  {
   "cell_type": "code",
   "execution_count": 41,
   "metadata": {},
   "outputs": [],
   "source": [
    "dep_amt_model = Sequential([\n",
    "    Dense(units=128, input_shape=(49,), activation='relu'),\n",
    "    Dense(units=256,activation='relu'),\n",
    "    Dense(units=512,activation='relu'),\n",
    "    Dense(units=10, activation='softmax')\n",
    "])\n",
    "dep_amt_model.compile(optimizer=Adam(lr=0.0001),loss='sparse_categorical_crossentropy', metrics=['accuracy'])"
   ]
  },
  {
   "cell_type": "code",
   "execution_count": 42,
   "metadata": {
    "scrolled": true
   },
   "outputs": [
    {
     "name": "stdout",
     "output_type": "stream",
     "text": [
      "Train on 34241 samples, validate on 3805 samples\n",
      "Epoch 1/20\n",
      " - 42s - loss: 1.4572 - acc: 0.4799 - val_loss: 1.1704 - val_acc: 0.5869\n",
      "Epoch 2/20\n",
      " - 43s - loss: 1.0520 - acc: 0.6254 - val_loss: 0.9453 - val_acc: 0.6752\n",
      "Epoch 3/20\n",
      " - 48s - loss: 0.8562 - acc: 0.7067 - val_loss: 0.7668 - val_acc: 0.7466\n",
      "Epoch 4/20\n",
      " - 48s - loss: 0.7082 - acc: 0.7666 - val_loss: 0.6510 - val_acc: 0.7848\n",
      "Epoch 5/20\n",
      " - 46s - loss: 0.5925 - acc: 0.8131 - val_loss: 0.5911 - val_acc: 0.7916\n",
      "Epoch 6/20\n",
      " - 48s - loss: 0.5011 - acc: 0.8429 - val_loss: 0.4878 - val_acc: 0.8544\n",
      "Epoch 7/20\n",
      " - 49s - loss: 0.4301 - acc: 0.8691 - val_loss: 0.4153 - val_acc: 0.8678\n",
      "Epoch 8/20\n",
      " - 49s - loss: 0.3732 - acc: 0.8897 - val_loss: 0.3513 - val_acc: 0.8965\n",
      "Epoch 9/20\n",
      " - 47s - loss: 0.3244 - acc: 0.9060 - val_loss: 0.3016 - val_acc: 0.9151\n",
      "Epoch 10/20\n",
      " - 48s - loss: 0.2857 - acc: 0.9199 - val_loss: 0.2683 - val_acc: 0.9238\n",
      "Epoch 11/20\n",
      " - 47s - loss: 0.2494 - acc: 0.9317 - val_loss: 0.2395 - val_acc: 0.9340\n",
      "Epoch 12/20\n",
      " - 50s - loss: 0.2211 - acc: 0.9411 - val_loss: 0.2180 - val_acc: 0.9432\n",
      "Epoch 13/20\n",
      " - 54s - loss: 0.1946 - acc: 0.9491 - val_loss: 0.1708 - val_acc: 0.9616\n",
      "Epoch 14/20\n",
      " - 50s - loss: 0.1721 - acc: 0.9553 - val_loss: 0.1551 - val_acc: 0.9611\n",
      "Epoch 15/20\n",
      " - 50s - loss: 0.1508 - acc: 0.9619 - val_loss: 0.1596 - val_acc: 0.9616\n",
      "Epoch 16/20\n",
      " - 50s - loss: 0.1320 - acc: 0.9689 - val_loss: 0.1460 - val_acc: 0.9616\n",
      "Epoch 17/20\n",
      " - 49s - loss: 0.1179 - acc: 0.9732 - val_loss: 0.1098 - val_acc: 0.9777\n",
      "Epoch 18/20\n",
      " - 50s - loss: 0.1040 - acc: 0.9777 - val_loss: 0.1141 - val_acc: 0.9753\n",
      "Epoch 19/20\n",
      " - 49s - loss: 0.0922 - acc: 0.9804 - val_loss: 0.0989 - val_acc: 0.9774\n",
      "Epoch 20/20\n",
      " - 51s - loss: 0.0821 - acc: 0.9834 - val_loss: 0.0940 - val_acc: 0.9787\n"
     ]
    },
    {
     "data": {
      "text/plain": [
       "<tensorflow.python.keras._impl.keras.callbacks.History at 0x7f9ed7fb57d0>"
      ]
     },
     "execution_count": 42,
     "metadata": {},
     "output_type": "execute_result"
    }
   ],
   "source": [
    "dep_amt_model.fit(x=train_x,\n",
    "                  y=train_deposit_amt,\n",
    "                  batch_size=10,\n",
    "                  validation_split=.1,\n",
    "                  epochs=20,\n",
    "                  callbacks=[tensorboard2],\n",
    "                 verbose=2)"
   ]
  },
  {
   "cell_type": "code",
   "execution_count": 43,
   "metadata": {},
   "outputs": [],
   "source": [
    "dep_amt_model.save('deposit_amt.h5')"
   ]
  },
  {
   "cell_type": "markdown",
   "metadata": {},
   "source": [
    "\n",
    "# MAX SPEED MODEL"
   ]
  },
  {
   "cell_type": "code",
   "execution_count": 44,
   "metadata": {},
   "outputs": [],
   "source": [
    "for i in range(len(max_spd)):\n",
    "    max_spd[i] = max_spd[i] -1"
   ]
  },
  {
   "cell_type": "code",
   "execution_count": 45,
   "metadata": {},
   "outputs": [],
   "source": [
    "train_max_spd = max_spd"
   ]
  },
  {
   "cell_type": "code",
   "execution_count": 46,
   "metadata": {},
   "outputs": [],
   "source": [
    "NAME3 =\"max_speed\"\n",
    "tensorboard3 = TensorBoard(log_dir=\"logs/{}\".format(NAME3))"
   ]
  },
  {
   "cell_type": "code",
   "execution_count": 47,
   "metadata": {},
   "outputs": [],
   "source": [
    "max_spd_model = Sequential([\n",
    "    Dense(units=128, input_shape=(49,), activation='relu'),\n",
    "    Dense(units=256,activation='relu'),\n",
    "    Dense(units=512,activation='relu'),\n",
    "    Dense(units=10, activation='softmax')\n",
    "])\n",
    "max_spd_model.compile(optimizer=Adam(lr=0.0001),loss='sparse_categorical_crossentropy', metrics=['accuracy'])"
   ]
  },
  {
   "cell_type": "code",
   "execution_count": 48,
   "metadata": {
    "scrolled": true
   },
   "outputs": [
    {
     "name": "stdout",
     "output_type": "stream",
     "text": [
      "Train on 37665 samples, validate on 381 samples\n",
      "Epoch 1/20\n",
      "37665/37665 [==============================]37665/37665 [==============================] - 62s 2ms/step - loss: 1.3360 - acc: 0.4951 - val_loss: 1.0098 - val_acc: 0.6404\n",
      "\n",
      "Epoch 2/20\n",
      "37665/37665 [==============================]37665/37665 [==============================] - 73s 2ms/step - loss: 0.9463 - acc: 0.6568 - val_loss: 0.8176 - val_acc: 0.6824\n",
      "\n",
      "Epoch 3/20\n",
      "37665/37665 [==============================]37665/37665 [==============================] - 71s 2ms/step - loss: 0.7685 - acc: 0.7286 - val_loss: 0.7246 - val_acc: 0.7375\n",
      "\n",
      "Epoch 4/20\n",
      "37665/37665 [==============================]37665/37665 [==============================] - 75s 2ms/step - loss: 0.6398 - acc: 0.7774 - val_loss: 0.5809 - val_acc: 0.8005\n",
      "\n",
      "Epoch 5/20\n",
      "37665/37665 [==============================]37665/37665 [==============================] - 71s 2ms/step - loss: 0.5428 - acc: 0.8153 - val_loss: 0.4689 - val_acc: 0.8530\n",
      "\n",
      "Epoch 6/20\n",
      "37665/37665 [==============================]37665/37665 [==============================] - 78s 2ms/step - loss: 0.4615 - acc: 0.8451 - val_loss: 0.4256 - val_acc: 0.8556\n",
      "\n",
      "Epoch 7/20\n",
      "37665/37665 [==============================]37665/37665 [==============================] - 78s 2ms/step - loss: 0.3899 - acc: 0.8739 - val_loss: 0.3666 - val_acc: 0.8766\n",
      "\n",
      "Epoch 8/20\n",
      "37665/37665 [==============================]37665/37665 [==============================] - 78s 2ms/step - loss: 0.3308 - acc: 0.8972 - val_loss: 0.2818 - val_acc: 0.9213\n",
      "\n",
      "Epoch 9/20\n",
      "37665/37665 [==============================]37665/37665 [==============================] - 78s 2ms/step - loss: 0.2792 - acc: 0.9177 - val_loss: 0.2658 - val_acc: 0.9108\n",
      "\n",
      "Epoch 10/20\n",
      "37665/37665 [==============================]37665/37665 [==============================] - 61s 2ms/step - loss: 0.2368 - acc: 0.9312 - val_loss: 0.1756 - val_acc: 0.9554\n",
      "\n",
      "Epoch 11/20\n",
      "37665/37665 [==============================]37665/37665 [==============================] - 59s 2ms/step - loss: 0.2000 - acc: 0.9457 - val_loss: 0.1945 - val_acc: 0.9528\n",
      "\n",
      "Epoch 12/20\n",
      "37665/37665 [==============================]37665/37665 [==============================] - 57s 2ms/step - loss: 0.1689 - acc: 0.9561 - val_loss: 0.1514 - val_acc: 0.9633\n",
      "\n",
      "Epoch 13/20\n",
      "37665/37665 [==============================]37665/37665 [==============================] - 60s 2ms/step - loss: 0.1413 - acc: 0.9646 - val_loss: 0.1640 - val_acc: 0.9475\n",
      "\n",
      "Epoch 14/20\n",
      "37665/37665 [==============================]37665/37665 [==============================] - 62s 2ms/step - loss: 0.1233 - acc: 0.9706 - val_loss: 0.1105 - val_acc: 0.9816\n",
      "\n",
      "Epoch 15/20\n",
      "37665/37665 [==============================]37665/37665 [==============================] - 62s 2ms/step - loss: 0.1044 - acc: 0.9765 - val_loss: 0.1064 - val_acc: 0.9816] - ETA: \n",
      "\n",
      "Epoch 16/20\n",
      "37665/37665 [==============================]37665/37665 [==============================] - 71s 2ms/step - loss: 0.0892 - acc: 0.9801 - val_loss: 0.0973 - val_acc: 0.9790\n",
      "\n",
      "Epoch 17/20\n",
      "37665/37665 [==============================]37665/37665 [==============================] - 79s 2ms/step - loss: 0.0788 - acc: 0.9823 - val_loss: 0.0892 - val_acc: 0.9816\n",
      "\n",
      "Epoch 18/20\n",
      "37665/37665 [==============================]37665/37665 [==============================] - 76s 2ms/step - loss: 0.0679 - acc: 0.9854 - val_loss: 0.0734 - val_acc: 0.9921\n",
      "\n",
      "Epoch 19/20\n",
      "37665/37665 [==============================]37665/37665 [==============================] - 77s 2ms/step - loss: 0.0584 - acc: 0.9878 - val_loss: 0.0803 - val_acc: 0.9895\n",
      "\n",
      "Epoch 20/20\n",
      "37665/37665 [==============================]37665/37665 [==============================] - 79s 2ms/step - loss: 0.0532 - acc: 0.9885 - val_loss: 0.0986 - val_acc: 0.9869\n",
      "\n"
     ]
    },
    {
     "data": {
      "text/plain": [
       "<tensorflow.python.keras._impl.keras.callbacks.History at 0x7f9ed41455d0>"
      ]
     },
     "execution_count": 48,
     "metadata": {},
     "output_type": "execute_result"
    }
   ],
   "source": [
    "max_spd_model.fit(x=train_x,\n",
    "                  y=train_max_spd,\n",
    "                  batch_size=10,\n",
    "                  validation_split=.01,\n",
    "                  epochs=20,\n",
    "                  callbacks=[tensorboard3])"
   ]
  },
  {
   "cell_type": "code",
   "execution_count": 49,
   "metadata": {},
   "outputs": [],
   "source": [
    "max_spd_model.save('max_speed.h5')"
   ]
  },
  {
   "cell_type": "markdown",
   "metadata": {},
   "source": [
    "# MAX FORCE MODEL"
   ]
  },
  {
   "cell_type": "code",
   "execution_count": 50,
   "metadata": {},
   "outputs": [],
   "source": [
    "for i in range(len(max_frc)):\n",
    "    max_frc[i] = max_frc[i] -1\n",
    "    \n",
    "train_max_frc = max_frc\n",
    "\n",
    "NAME4 =\"max_force\"\n",
    "tensorboard4 = TensorBoard(log_dir=\"logs/{}\".format(NAME4))\n",
    "\n",
    "max_frc_model = Sequential([\n",
    "    Dense(units=128, input_shape=(49,), activation='relu'),\n",
    "    Dense(units=256,activation='relu'),\n",
    "    Dense(units=512,activation='relu'),\n",
    "    Dense(units=13, activation='softmax')\n",
    "])\n",
    "\n",
    "max_frc_model.compile(optimizer=Adam(lr=0.0001),loss='sparse_categorical_crossentropy', metrics=['accuracy'])"
   ]
  },
  {
   "cell_type": "code",
   "execution_count": 51,
   "metadata": {
    "scrolled": false
   },
   "outputs": [
    {
     "name": "stdout",
     "output_type": "stream",
     "text": [
      "Train on 34241 samples, validate on 3805 samples\n",
      "Epoch 1/20\n",
      "34241/34241 [==============================]34241/34241 [==============================] - 55s 2ms/step - loss: 1.4965 - acc: 0.4655 - val_loss: 1.2186 - val_acc: 0.5530\n",
      "\n",
      "Epoch 2/20\n",
      "34241/34241 [==============================]34241/34241 [==============================] - 57s 2ms/step - loss: 1.1042 - acc: 0.6042 - val_loss: 0.9841 - val_acc: 0.6565\n",
      "\n",
      "Epoch 3/20\n",
      "34241/34241 [==============================]34241/34241 [==============================] - 66s 2ms/step - loss: 0.9249 - acc: 0.6764 - val_loss: 0.8660 - val_acc: 0.6922\n",
      "\n",
      "Epoch 4/20\n",
      "34241/34241 [==============================]34241/34241 [==============================] - 68s 2ms/step - loss: 0.7870 - acc: 0.7341 - val_loss: 0.7124 - val_acc: 0.7653\n",
      "\n",
      "Epoch 5/20\n",
      "34241/34241 [==============================]34241/34241 [==============================] - 68s 2ms/step - loss: 0.6760 - acc: 0.7759 - val_loss: 0.6754 - val_acc: 0.7653\n",
      "\n",
      "Epoch 6/20\n",
      "34241/34241 [==============================]34241/34241 [==============================] - 70s 2ms/step - loss: 0.5809 - acc: 0.8112 - val_loss: 0.5455 - val_acc: 0.8263\n",
      "\n",
      "Epoch 7/20\n",
      "34241/34241 [==============================]34241/34241 [==============================] - 71s 2ms/step - loss: 0.5012 - acc: 0.8410 - val_loss: 0.4673 - val_acc: 0.8460\n",
      "\n",
      "Epoch 8/20\n",
      "34241/34241 [==============================]34241/34241 [==============================] - 69s 2ms/step - loss: 0.4315 - acc: 0.8697 - val_loss: 0.4097 - val_acc: 0.8728\n",
      "\n",
      "Epoch 9/20\n",
      "34241/34241 [==============================]34241/34241 [==============================] - 71s 2ms/step - loss: 0.3722 - acc: 0.8895 - val_loss: 0.3411 - val_acc: 0.8978\n",
      "\n",
      "Epoch 10/20\n",
      "34241/34241 [==============================]34241/34241 [==============================] - 72s 2ms/step - loss: 0.3209 - acc: 0.9096 - val_loss: 0.2757 - val_acc: 0.9283\n",
      "\n",
      "Epoch 11/20\n",
      "34241/34241 [==============================]34241/34241 [==============================] - 71s 2ms/step - loss: 0.2762 - acc: 0.9256 - val_loss: 0.2381 - val_acc: 0.9356\n",
      "\n",
      "Epoch 12/20\n",
      "34241/34241 [==============================]34241/34241 [==============================] - 70s 2ms/step - loss: 0.2383 - acc: 0.9376 - val_loss: 0.2197 - val_acc: 0.9417\n",
      "\n",
      "Epoch 13/20\n",
      "34241/34241 [==============================]34241/34241 [==============================] - 69s 2ms/step - loss: 0.2065 - acc: 0.9472 - val_loss: 0.2072 - val_acc: 0.9472\n",
      "\n",
      "Epoch 14/20\n",
      "34241/34241 [==============================]34241/34241 [==============================] - 66s 2ms/step - loss: 0.1790 - acc: 0.9558 - val_loss: 0.1573 - val_acc: 0.9643\n",
      "\n",
      "Epoch 15/20\n",
      "34241/34241 [==============================]34241/34241 [==============================] - 72s 2ms/step - loss: 0.1566 - acc: 0.9617 - val_loss: 0.1517 - val_acc: 0.9595\n",
      "\n",
      "Epoch 16/20\n",
      "34241/34241 [==============================]34241/34241 [==============================] - 72s 2ms/step - loss: 0.1343 - acc: 0.9690 - val_loss: 0.1404 - val_acc: 0.9664\n",
      "\n",
      "Epoch 17/20\n",
      "34241/34241 [==============================]34241/34241 [==============================] - 71s 2ms/step - loss: 0.1192 - acc: 0.9733 - val_loss: 0.1208 - val_acc: 0.9724\n",
      "\n",
      "Epoch 18/20\n",
      "34241/34241 [==============================]34241/34241 [==============================] - 72s 2ms/step - loss: 0.1042 - acc: 0.9772 - val_loss: 0.0924 - val_acc: 0.9813\n",
      "\n",
      "Epoch 19/20\n",
      "34241/34241 [==============================]34241/34241 [==============================] - 79s 2ms/step - loss: 0.0923 - acc: 0.9812 - val_loss: 0.1017 - val_acc: 0.9761\n",
      "\n",
      "Epoch 20/20\n",
      "34241/34241 [==============================]34241/34241 [==============================] - 80s 2ms/step - loss: 0.0815 - acc: 0.9836 - val_loss: 0.0900 - val_acc: 0.9808\n",
      "\n"
     ]
    },
    {
     "data": {
      "text/plain": [
       "<tensorflow.python.keras._impl.keras.callbacks.History at 0x7f9ebf7717d0>"
      ]
     },
     "execution_count": 51,
     "metadata": {},
     "output_type": "execute_result"
    }
   ],
   "source": [
    "max_frc_model.fit(x=train_x,\n",
    "                  y=train_max_frc,\n",
    "                  batch_size=10,\n",
    "                 \n",
    "                  validation_split=.1,\n",
    "                  epochs=20,\n",
    "                  callbacks=[tensorboard4])"
   ]
  },
  {
   "cell_type": "code",
   "execution_count": 52,
   "metadata": {},
   "outputs": [],
   "source": [
    "max_frc_model.save('max_force.h5')"
   ]
  },
  {
   "cell_type": "markdown",
   "metadata": {},
   "source": [
    "# DECAY RATE MODEL"
   ]
  },
  {
   "cell_type": "code",
   "execution_count": 53,
   "metadata": {},
   "outputs": [],
   "source": [
    "for i in range(len(dec_rate)):\n",
    "    dec_rate[i] = dec_rate[i] -1\n",
    "    \n",
    "train_dec_rate = dec_rate\n",
    "\n",
    "NAME5 =\"decay_rate\"\n",
    "tensorboard5 = TensorBoard(log_dir=\"logs/{}\".format(NAME5))\n",
    "\n",
    "dec_rate_model = Sequential([\n",
    "    Dense(units=128, input_shape=(49,), activation='relu'),\n",
    "    Dense(units=256,activation='relu'),\n",
    "    Dense(units=512,activation='relu'),\n",
    "    Dense(units=4, activation='softmax')\n",
    "])\n",
    "\n",
    "dec_rate_model.compile(optimizer=Adam(lr=0.0001),loss='sparse_categorical_crossentropy', metrics=['accuracy'])"
   ]
  },
  {
   "cell_type": "code",
   "execution_count": 54,
   "metadata": {
    "scrolled": true
   },
   "outputs": [
    {
     "name": "stdout",
     "output_type": "stream",
     "text": [
      "Train on 34241 samples, validate on 3805 samples\n",
      "Epoch 1/20\n",
      "34241/34241 [==============================]34241/34241 [==============================] - 56s 2ms/step - loss: 0.5563 - acc: 0.7818 - val_loss: 0.4527 - val_acc: 0.8223\n",
      "\n",
      "Epoch 2/20\n",
      "34241/34241 [==============================]34241/34241 [==============================] - 59s 2ms/step - loss: 0.4001 - acc: 0.8387 - val_loss: 0.3480 - val_acc: 0.8620\n",
      "\n",
      "Epoch 3/20\n",
      "34241/34241 [==============================]34241/34241 [==============================] - 60s 2ms/step - loss: 0.3161 - acc: 0.8754 - val_loss: 0.2733 - val_acc: 0.9004\n",
      "\n",
      "Epoch 4/20\n",
      "34241/34241 [==============================]34241/34241 [==============================] - 61s 2ms/step - loss: 0.2480 - acc: 0.9060 - val_loss: 0.2194 - val_acc: 0.9185\n",
      "\n",
      "Epoch 5/20\n",
      "34241/34241 [==============================]34241/34241 [==============================] - 61s 2ms/step - loss: 0.1954 - acc: 0.9263 - val_loss: 0.1561 - val_acc: 0.9398\n",
      "\n",
      "Epoch 6/20\n",
      "34241/34241 [==============================]34241/34241 [==============================] - 60s 2ms/step - loss: 0.1522 - acc: 0.9445 - val_loss: 0.1331 - val_acc: 0.9509\n",
      "\n",
      "Epoch 7/20\n",
      "34241/34241 [==============================]34241/34241 [==============================] - 61s 2ms/step - loss: 0.1228 - acc: 0.9575 - val_loss: 0.1331 - val_acc: 0.9532\n",
      "\n",
      "Epoch 8/20\n",
      "34241/34241 [==============================]34241/34241 [==============================] - 61s 2ms/step - loss: 0.1023 - acc: 0.9655 - val_loss: 0.0916 - val_acc: 0.9700\n",
      "\n",
      "Epoch 9/20\n",
      "34241/34241 [==============================]34241/34241 [==============================] - 61s 2ms/step - loss: 0.0825 - acc: 0.9731 - val_loss: 0.0925 - val_acc: 0.9708\n",
      "\n",
      "Epoch 10/20\n",
      "34241/34241 [==============================]34241/34241 [==============================] - 62s 2ms/step - loss: 0.0695 - acc: 0.9776 - val_loss: 0.0852 - val_acc: 0.9682\n",
      "\n",
      "Epoch 11/20\n",
      "34241/34241 [==============================]34241/34241 [==============================] - 58s 2ms/step - loss: 0.0584 - acc: 0.9817 - val_loss: 0.0530 - val_acc: 0.9837\n",
      "\n",
      "Epoch 12/20\n",
      "34241/34241 [==============================]34241/34241 [==============================] - 56s 2ms/step - loss: 0.0470 - acc: 0.9860 - val_loss: 0.0529 - val_acc: 0.9816\n",
      "\n",
      "Epoch 13/20\n",
      "34241/34241 [==============================]34241/34241 [==============================] - 55s 2ms/step - loss: 0.0415 - acc: 0.9878 - val_loss: 0.0419 - val_acc: 0.9895\n",
      "\n",
      "Epoch 14/20\n",
      "34241/34241 [==============================]34241/34241 [==============================] - 56s 2ms/step - loss: 0.0359 - acc: 0.9891 - val_loss: 0.0391 - val_acc: 0.9905\n",
      "\n",
      "Epoch 15/20\n",
      "34241/34241 [==============================]34241/34241 [==============================] - 56s 2ms/step - loss: 0.0333 - acc: 0.9904 - val_loss: 0.0502 - val_acc: 0.9863\n",
      "\n",
      "Epoch 16/20\n",
      "34241/34241 [==============================]34241/34241 [==============================] - 56s 2ms/step - loss: 0.0277 - acc: 0.9923 - val_loss: 0.0304 - val_acc: 0.9913\n",
      "\n",
      "Epoch 17/20\n",
      "34241/34241 [==============================]34241/34241 [==============================] - 55s 2ms/step - loss: 0.0241 - acc: 0.9934 - val_loss: 0.0265 - val_acc: 0.9926\n",
      "\n",
      "Epoch 18/20\n",
      "34241/34241 [==============================]34241/34241 [==============================] - 55s 2ms/step - loss: 0.0214 - acc: 0.9935 - val_loss: 0.0363 - val_acc: 0.9905\n",
      "\n",
      "Epoch 19/20\n",
      "34241/34241 [==============================]34241/34241 [==============================] - 56s 2ms/step - loss: 0.0185 - acc: 0.9949 - val_loss: 0.0198 - val_acc: 0.9945\n",
      "\n",
      "Epoch 20/20\n",
      "34241/34241 [==============================]34241/34241 [==============================] - 53s 2ms/step - loss: 0.0192 - acc: 0.9947 - val_loss: 0.0297 - val_acc: 0.9932\n",
      "\n"
     ]
    },
    {
     "data": {
      "text/plain": [
       "<tensorflow.python.keras._impl.keras.callbacks.History at 0x7f9ebf6d7890>"
      ]
     },
     "execution_count": 54,
     "metadata": {},
     "output_type": "execute_result"
    }
   ],
   "source": [
    "dec_rate_model.fit(x=train_x,\n",
    "                  y=train_dec_rate,\n",
    "                  batch_size=10,\n",
    "                  validation_split=.1,\n",
    "                  epochs=20,\n",
    "                  callbacks=[tensorboard5])"
   ]
  },
  {
   "cell_type": "code",
   "execution_count": 55,
   "metadata": {},
   "outputs": [],
   "source": [
    "dec_rate_model.save('decay_rate.h5')"
   ]
  },
  {
   "cell_type": "markdown",
   "metadata": {},
   "source": [
    "# SENSE DIST MODEL"
   ]
  },
  {
   "cell_type": "code",
   "execution_count": 56,
   "metadata": {},
   "outputs": [],
   "source": [
    "for i in range(len(sense_dist)):\n",
    "    sense_dist[i] = sense_dist[i] -1\n",
    "    \n",
    "train_sense_dist = sense_dist\n",
    "\n",
    "NAME6 =\"sense_dist\"\n",
    "tensorboard6 = TensorBoard(log_dir=\"logs/{}\".format(NAME6))\n",
    "\n",
    "sense_dist_model = Sequential([\n",
    "    Dense(units=128, input_shape=(49,), activation='relu'),\n",
    "    Dense(units=256,activation='relu'),\n",
    "    Dense(units=512,activation='relu'),\n",
    "    Dense(units=12, activation='softmax')\n",
    "])\n",
    "\n",
    "sense_dist_model.compile(optimizer=Adam(lr=0.0001),loss='sparse_categorical_crossentropy', metrics=['accuracy'])"
   ]
  },
  {
   "cell_type": "code",
   "execution_count": 57,
   "metadata": {
    "scrolled": true
   },
   "outputs": [
    {
     "name": "stdout",
     "output_type": "stream",
     "text": [
      "Train on 34241 samples, validate on 3805 samples\n",
      "Epoch 1/20\n",
      "34241/34241 [==============================]34241/34241 [==============================] - 54s 2ms/step - loss: 1.4395 - acc: 0.4989 - val_loss: 1.1815 - val_acc: 0.5690\n",
      "\n",
      "Epoch 2/20\n",
      "34241/34241 [==============================]34241/34241 [==============================] - 55s 2ms/step - loss: 1.0504 - acc: 0.6311 - val_loss: 0.9776 - val_acc: 0.6625\n",
      "\n",
      "Epoch 3/20\n",
      "34241/34241 [==============================]34241/34241 [==============================] - 60s 2ms/step - loss: 0.8945 - acc: 0.6931 - val_loss: 0.8478 - val_acc: 0.7064\n",
      "\n",
      "Epoch 4/20\n",
      "34241/34241 [==============================]34241/34241 [==============================] - 58s 2ms/step - loss: 0.7792 - acc: 0.7349 - val_loss: 0.7475 - val_acc: 0.7390\n",
      "\n",
      "Epoch 5/20\n",
      "34241/34241 [==============================]34241/34241 [==============================] - 61s 2ms/step - loss: 0.6812 - acc: 0.7738 - val_loss: 0.6558 - val_acc: 0.7727\n",
      "\n",
      "Epoch 6/20\n",
      "34241/34241 [==============================]34241/34241 [==============================] - 59s 2ms/step - loss: 0.5924 - acc: 0.8075 - val_loss: 0.5709 - val_acc: 0.8155\n",
      "\n",
      "Epoch 7/20\n",
      "34241/34241 [==============================]34241/34241 [==============================] - 60s 2ms/step - loss: 0.5118 - acc: 0.8362 - val_loss: 0.4947 - val_acc: 0.8392\n",
      "\n",
      "Epoch 8/20\n",
      "34241/34241 [==============================]34241/34241 [==============================] - 62s 2ms/step - loss: 0.4454 - acc: 0.8616 - val_loss: 0.4256 - val_acc: 0.8636\n",
      "\n",
      "Epoch 9/20\n",
      "34241/34241 [==============================]34241/34241 [==============================] - 63s 2ms/step - loss: 0.3833 - acc: 0.8841 - val_loss: 0.3764 - val_acc: 0.8778\n",
      "\n",
      "Epoch 10/20\n",
      "34241/34241 [==============================]34241/34241 [==============================] - 62s 2ms/step - loss: 0.3335 - acc: 0.9015 - val_loss: 0.3313 - val_acc: 0.8949\n",
      "\n",
      "Epoch 11/20\n",
      "34241/34241 [==============================]34241/34241 [==============================] - 57s 2ms/step - loss: 0.2885 - acc: 0.9181 - val_loss: 0.3031 - val_acc: 0.9035\n",
      "\n",
      "Epoch 12/20\n",
      "34241/34241 [==============================]34241/34241 [==============================] - 76s 2ms/step - loss: 0.2515 - acc: 0.9301 - val_loss: 0.2506 - val_acc: 0.9296\n",
      "\n",
      "Epoch 13/20\n",
      "34241/34241 [==============================]34241/34241 [==============================] - 72s 2ms/step - loss: 0.2189 - acc: 0.9402 - val_loss: 0.2018 - val_acc: 0.9495\n",
      "\n",
      "Epoch 14/20\n",
      "34241/34241 [==============================]34241/34241 [==============================] - 74s 2ms/step - loss: 0.1911 - acc: 0.9506 - val_loss: 0.2027 - val_acc: 0.9480\n",
      "\n",
      "Epoch 15/20\n",
      "34241/34241 [==============================]34241/34241 [==============================] - 73s 2ms/step - loss: 0.1659 - acc: 0.9601 - val_loss: 0.1474 - val_acc: 0.9669\n",
      "\n",
      "Epoch 16/20\n",
      "34241/34241 [==============================]34241/34241 [==============================] - 75s 2ms/step - loss: 0.1467 - acc: 0.9650 - val_loss: 0.1404 - val_acc: 0.9627\n",
      "\n",
      "Epoch 17/20\n",
      "34241/34241 [==============================]34241/34241 [==============================] - 74s 2ms/step - loss: 0.1270 - acc: 0.9713 - val_loss: 0.1327 - val_acc: 0.9716\n",
      "\n",
      "Epoch 18/20\n",
      "34241/34241 [==============================]34241/34241 [==============================] - 74s 2ms/step - loss: 0.1113 - acc: 0.9759 - val_loss: 0.1089 - val_acc: 0.9779\n",
      "\n",
      "Epoch 19/20\n",
      "34241/34241 [==============================]34241/34241 [==============================] - 75s 2ms/step - loss: 0.0998 - acc: 0.9776 - val_loss: 0.1116 - val_acc: 0.9742\n",
      "\n",
      "Epoch 20/20\n",
      "34241/34241 [==============================]34241/34241 [==============================] - 77s 2ms/step - loss: 0.0887 - acc: 0.9818 - val_loss: 0.1068 - val_acc: 0.9769\n",
      "\n"
     ]
    },
    {
     "data": {
      "text/plain": [
       "<tensorflow.python.keras._impl.keras.callbacks.History at 0x7f9ebef5ad10>"
      ]
     },
     "execution_count": 57,
     "metadata": {},
     "output_type": "execute_result"
    }
   ],
   "source": [
    "sense_dist_model.fit(x=train_x,\n",
    "                  y=train_sense_dist,\n",
    "                  batch_size=10,\n",
    "                  validation_split=.1,\n",
    "                  epochs=20,\n",
    "                  callbacks=[tensorboard6])"
   ]
  },
  {
   "cell_type": "code",
   "execution_count": 58,
   "metadata": {},
   "outputs": [],
   "source": [
    "sense_dist_model.save('sense_dist.h5')"
   ]
  },
  {
   "cell_type": "markdown",
   "metadata": {},
   "source": [
    "# SLOPE STEP MODEL"
   ]
  },
  {
   "cell_type": "code",
   "execution_count": 59,
   "metadata": {},
   "outputs": [],
   "source": [
    "for i in range(len(slope_step)):\n",
    "    slope_step[i] = slope_step[i] -1\n",
    "    \n",
    "train_slope_step = slope_step\n",
    "\n",
    "NAME7 =\"slope_step\"\n",
    "tensorboard7 = TensorBoard(log_dir=\"logs/{}\".format(NAME7))\n",
    "\n",
    "slope_step_model = Sequential([\n",
    "    Dense(units=128, input_shape=(49,), activation='relu'),\n",
    "    Dense(units=256,activation='relu'),\n",
    "    Dense(units=512,activation='relu'),\n",
    "    Dense(units=6, activation='softmax')\n",
    "])\n",
    "\n",
    "slope_step_model.compile(optimizer=Adam(lr=0.0001),loss='sparse_categorical_crossentropy', metrics=['accuracy'])"
   ]
  },
  {
   "cell_type": "code",
   "execution_count": 60,
   "metadata": {
    "scrolled": true
   },
   "outputs": [
    {
     "name": "stdout",
     "output_type": "stream",
     "text": [
      "Train on 34241 samples, validate on 3805 samples\n",
      "Epoch 1/20\n",
      "34241/34241 [==============================]34241/34241 [==============================] - 53s 2ms/step - loss: 0.3983 - acc: 0.8754 - val_loss: 0.2704 - val_acc: 0.9093\n",
      "\n",
      "Epoch 2/20\n",
      "34241/34241 [==============================]34241/34241 [==============================] - 59s 2ms/step - loss: 0.2203 - acc: 0.9241 - val_loss: 0.1747 - val_acc: 0.9369\n",
      "\n",
      "Epoch 3/20\n",
      "34241/34241 [==============================]34241/34241 [==============================] - 66s 2ms/step - loss: 0.1526 - acc: 0.9478 - val_loss: 0.1359 - val_acc: 0.9606\n",
      "\n",
      "Epoch 4/20\n",
      "34241/34241 [==============================]34241/34241 [==============================] - 67s 2ms/step - loss: 0.1110 - acc: 0.9613 - val_loss: 0.1065 - val_acc: 0.9698\n",
      "\n",
      "Epoch 5/20\n",
      "34241/34241 [==============================]34241/34241 [==============================] - 70s 2ms/step - loss: 0.0833 - acc: 0.9718 - val_loss: 0.0705 - val_acc: 0.9777\n",
      "\n",
      "Epoch 6/20\n",
      "34241/34241 [==============================]34241/34241 [==============================] - 68s 2ms/step - loss: 0.0660 - acc: 0.9782 - val_loss: 0.0540 - val_acc: 0.9845\n",
      "\n",
      "Epoch 7/20\n",
      "34241/34241 [==============================]34241/34241 [==============================] - 67s 2ms/step - loss: 0.0523 - acc: 0.9837 - val_loss: 0.0588 - val_acc: 0.9829\n",
      "\n",
      "Epoch 8/20\n",
      "34241/34241 [==============================]34241/34241 [==============================] - 70s 2ms/step - loss: 0.0442 - acc: 0.9860 - val_loss: 0.0382 - val_acc: 0.9895\n",
      "\n",
      "Epoch 9/20\n",
      "34241/34241 [==============================]34241/34241 [==============================] - 68s 2ms/step - loss: 0.0373 - acc: 0.9886 - val_loss: 0.0614 - val_acc: 0.9819\n",
      "\n",
      "Epoch 10/20\n",
      "34241/34241 [==============================]34241/34241 [==============================] - 59s 2ms/step - loss: 0.0313 - acc: 0.9909 - val_loss: 0.0294 - val_acc: 0.9921\n",
      "\n",
      "Epoch 11/20\n",
      "34241/34241 [==============================]34241/34241 [==============================] - 61s 2ms/step - loss: 0.0268 - acc: 0.9923 - val_loss: 0.0367 - val_acc: 0.9882\n",
      "\n",
      "Epoch 12/20\n",
      "34241/34241 [==============================]34241/34241 [==============================] - 59s 2ms/step - loss: 0.0234 - acc: 0.9935 - val_loss: 0.0255 - val_acc: 0.9921\n",
      "\n",
      "Epoch 13/20\n",
      "34241/34241 [==============================]34241/34241 [==============================] - 59s 2ms/step - loss: 0.0199 - acc: 0.9949 - val_loss: 0.0184 - val_acc: 0.9950\n",
      "\n",
      "Epoch 14/20\n",
      "34241/34241 [==============================]34241/34241 [==============================] - 67s 2ms/step - loss: 0.0183 - acc: 0.9949 - val_loss: 0.0147 - val_acc: 0.9974\n",
      "\n",
      "Epoch 15/20\n",
      "34241/34241 [==============================]34241/34241 [==============================] - 79s 2ms/step - loss: 0.0178 - acc: 0.9953 - val_loss: 0.0189 - val_acc: 0.9955\n",
      "\n",
      "Epoch 16/20\n",
      "34241/34241 [==============================]34241/34241 [==============================] - 73s 2ms/step - loss: 0.0152 - acc: 0.9961 - val_loss: 0.0149 - val_acc: 0.9963\n",
      "\n",
      "Epoch 17/20\n",
      "34241/34241 [==============================]34241/34241 [==============================] - 75s 2ms/step - loss: 0.0137 - acc: 0.9964 - val_loss: 0.0127 - val_acc: 0.9974\n",
      "\n",
      "Epoch 18/20\n",
      "34241/34241 [==============================]34241/34241 [==============================] - 75s 2ms/step - loss: 0.0131 - acc: 0.9965 - val_loss: 0.0120 - val_acc: 0.9974\n",
      "\n",
      "Epoch 19/20\n",
      "34241/34241 [==============================]34241/34241 [==============================] - 80s 2ms/step - loss: 0.0118 - acc: 0.9970 - val_loss: 0.0120 - val_acc: 0.9963] - ETA\n",
      "\n",
      "Epoch 20/20\n",
      "34241/34241 [==============================]34241/34241 [==============================] - 80s 2ms/step - loss: 0.0108 - acc: 0.9972 - val_loss: 0.0221 - val_acc: 0.9963\n",
      "\n"
     ]
    },
    {
     "data": {
      "text/plain": [
       "<tensorflow.python.keras._impl.keras.callbacks.History at 0x7f9ebe3d7590>"
      ]
     },
     "execution_count": 60,
     "metadata": {},
     "output_type": "execute_result"
    }
   ],
   "source": [
    "slope_step_model.fit(x=train_x,\n",
    "                  y=train_slope_step,\n",
    "                  batch_size=10,\n",
    "                  validation_split=.1,\n",
    "                  epochs=20,\n",
    "                  callbacks=[tensorboard7])"
   ]
  },
  {
   "cell_type": "code",
   "execution_count": 61,
   "metadata": {},
   "outputs": [],
   "source": [
    "slope_step_model.save('slope_step.h5')"
   ]
  },
  {
   "cell_type": "markdown",
   "metadata": {},
   "source": [
    "# DISPLACE SIZE MODEL"
   ]
  },
  {
   "cell_type": "code",
   "execution_count": 62,
   "metadata": {},
   "outputs": [],
   "source": [
    "for i in range(len(disp_size)):\n",
    "    disp_size[i] = disp_size[i] -1\n",
    "    \n",
    "train_disp_size =disp_size\n",
    "\n",
    "NAME8 =\"displace_size\"\n",
    "tensorboard8 = TensorBoard(log_dir=\"logs/{}\".format(NAME8))\n",
    "\n",
    "disp_size_model = Sequential([\n",
    "    Dense(units=128, input_shape=(49,), activation='relu'),\n",
    "    Dense(units=256,activation='relu'),\n",
    "    Dense(units=512,activation='relu'),\n",
    "    Dense(units=8, activation='softmax')\n",
    "])\n",
    "\n",
    "disp_size_model.compile(optimizer=Adam(lr=0.0001),loss='sparse_categorical_crossentropy', metrics=['accuracy'])"
   ]
  },
  {
   "cell_type": "code",
   "execution_count": 63,
   "metadata": {
    "scrolled": true
   },
   "outputs": [
    {
     "name": "stdout",
     "output_type": "stream",
     "text": [
      "Train on 34241 samples, validate on 3805 samples\n",
      "Epoch 1/20\n",
      "34241/34241 [==============================]34241/34241 [==============================] - 56s 2ms/step - loss: 0.3850 - acc: 0.8812 - val_loss: 0.2309 - val_acc: 0.9191\n",
      "\n",
      "Epoch 2/20\n",
      "34241/34241 [==============================]34241/34241 [==============================] - 62s 2ms/step - loss: 0.2028 - acc: 0.9291 - val_loss: 0.1578 - val_acc: 0.9488\n",
      "\n",
      "Epoch 3/20\n",
      "34241/34241 [==============================]34241/34241 [==============================] - 69s 2ms/step - loss: 0.1454 - acc: 0.9491 - val_loss: 0.1282 - val_acc: 0.9601\n",
      "\n",
      "Epoch 4/20\n",
      "34241/34241 [==============================]34241/34241 [==============================] - 69s 2ms/step - loss: 0.1056 - acc: 0.9646 - val_loss: 0.0971 - val_acc: 0.9635\n",
      "\n",
      "Epoch 5/20\n",
      "34241/34241 [==============================]34241/34241 [==============================] - 71s 2ms/step - loss: 0.0797 - acc: 0.9749 - val_loss: 0.0742 - val_acc: 0.9798\n",
      "\n",
      "Epoch 6/20\n",
      "34241/34241 [==============================]34241/34241 [==============================] - 70s 2ms/step - loss: 0.0640 - acc: 0.9805 - val_loss: 0.0617 - val_acc: 0.9761\n",
      "\n",
      "Epoch 7/20\n",
      "34241/34241 [==============================]34241/34241 [==============================] - 74s 2ms/step - loss: 0.0533 - acc: 0.9847 - val_loss: 0.0553 - val_acc: 0.9855\n",
      "\n",
      "Epoch 8/20\n",
      "34241/34241 [==============================]34241/34241 [==============================] - 74s 2ms/step - loss: 0.0449 - acc: 0.9869 - val_loss: 0.0398 - val_acc: 0.9869\n",
      "\n",
      "Epoch 9/20\n",
      "34241/34241 [==============================]34241/34241 [==============================] - 75s 2ms/step - loss: 0.0374 - acc: 0.9889 - val_loss: 0.0323 - val_acc: 0.9916\n",
      "\n",
      "Epoch 10/20\n",
      "34241/34241 [==============================]34241/34241 [==============================] - 69s 2ms/step - loss: 0.0328 - acc: 0.9911 - val_loss: 0.0313 - val_acc: 0.9900\n",
      "\n",
      "Epoch 11/20\n",
      "34241/34241 [==============================]34241/34241 [==============================] - 71s 2ms/step - loss: 0.0282 - acc: 0.9923 - val_loss: 0.0260 - val_acc: 0.9921\n",
      "\n",
      "Epoch 12/20\n",
      "34241/34241 [==============================]34241/34241 [==============================] - 68s 2ms/step - loss: 0.0245 - acc: 0.9940 - val_loss: 0.0269 - val_acc: 0.9950\n",
      "\n",
      "Epoch 13/20\n",
      "34241/34241 [==============================]34241/34241 [==============================] - 67s 2ms/step - loss: 0.0217 - acc: 0.9945 - val_loss: 0.0186 - val_acc: 0.9945\n",
      "\n",
      "Epoch 14/20\n",
      "34241/34241 [==============================]34241/34241 [==============================] - 65s 2ms/step - loss: 0.0198 - acc: 0.9945 - val_loss: 0.0154 - val_acc: 0.9982\n",
      "\n",
      "Epoch 15/20\n",
      "34241/34241 [==============================]34241/34241 [==============================] - 68s 2ms/step - loss: 0.0172 - acc: 0.9956 - val_loss: 0.0138 - val_acc: 0.9961\n",
      "\n",
      "Epoch 16/20\n",
      "34241/34241 [==============================]34241/34241 [==============================] - 66s 2ms/step - loss: 0.0172 - acc: 0.9957 - val_loss: 0.0284 - val_acc: 0.9861\n",
      "\n",
      "Epoch 17/20\n",
      "34241/34241 [==============================]34241/34241 [==============================] - 68s 2ms/step - loss: 0.0151 - acc: 0.9960 - val_loss: 0.0208 - val_acc: 0.9919\n",
      "\n",
      "Epoch 18/20\n",
      "34241/34241 [==============================]34241/34241 [==============================] - 68s 2ms/step - loss: 0.0154 - acc: 0.9958 - val_loss: 0.0127 - val_acc: 0.9976\n",
      "\n",
      "Epoch 19/20\n",
      "34241/34241 [==============================]34241/34241 [==============================] - 67s 2ms/step - loss: 0.0121 - acc: 0.9967 - val_loss: 0.0136 - val_acc: 0.9953\n",
      "\n",
      "Epoch 20/20\n",
      "34241/34241 [==============================]34241/34241 [==============================] - 67s 2ms/step - loss: 0.0125 - acc: 0.9968 - val_loss: 0.0200 - val_acc: 0.9955\n",
      "\n"
     ]
    },
    {
     "data": {
      "text/plain": [
       "<tensorflow.python.keras._impl.keras.callbacks.History at 0x7f9ebdcb6990>"
      ]
     },
     "execution_count": 63,
     "metadata": {},
     "output_type": "execute_result"
    }
   ],
   "source": [
    "disp_size_model.fit(x=train_x,\n",
    "                  y=train_disp_size,\n",
    "                  batch_size=10,\n",
    "                  validation_split=.1,\n",
    "                  epochs=20,\n",
    "                  callbacks=[tensorboard8])"
   ]
  },
  {
   "cell_type": "code",
   "execution_count": 21,
   "metadata": {},
   "outputs": [],
   "source": [
    "disp_size_model.save('displace_size.h5')"
   ]
  }
 ],
 "metadata": {
  "kernelspec": {
   "display_name": "python2env",
   "language": "python",
   "name": "python2env"
  },
  "language_info": {
   "codemirror_mode": {
    "name": "ipython",
    "version": 2
   },
   "file_extension": ".py",
   "mimetype": "text/x-python",
   "name": "python",
   "nbconvert_exporter": "python",
   "pygments_lexer": "ipython2",
   "version": "2.7.18"
  }
 },
 "nbformat": 4,
 "nbformat_minor": 4
}
