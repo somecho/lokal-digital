{
 "cells": [
  {
   "cell_type": "code",
   "execution_count": 2,
   "metadata": {},
   "outputs": [],
   "source": [
    "import pandas as pd\n",
    "import numpy as np\n"
   ]
  },
  {
   "cell_type": "code",
   "execution_count": 6,
   "metadata": {},
   "outputs": [],
   "source": [
    "csv_data = pd.read_csv(\"audio_data.csv\")"
   ]
  },
  {
   "cell_type": "code",
   "execution_count": 4,
   "metadata": {},
   "outputs": [],
   "source": [
    "data = csv_data.to_numpy()"
   ]
  },
  {
   "cell_type": "code",
   "execution_count": 9,
   "metadata": {},
   "outputs": [],
   "source": [
    "csv_data = csv_data.drop(index=0,axis=0)"
   ]
  },
  {
   "cell_type": "code",
   "execution_count": 11,
   "metadata": {},
   "outputs": [],
   "source": [
    "temp = pd.read_csv(\"data.csv\")"
   ]
  },
  {
   "cell_type": "code",
   "execution_count": 4,
   "metadata": {},
   "outputs": [],
   "source": [
    "num_dirs = data[:,49]\n",
    "deposit_amt = data[:,50]\n",
    "max_spd = data[:,51]\n",
    "max_frc=data[:,52]\n",
    "dec_rate=data[:,53]\n",
    "sense_dist=data[:,54]\n",
    "slope_step=data[:,55]\n",
    "disp_size=data[:,56]"
   ]
  },
  {
   "cell_type": "code",
   "execution_count": 5,
   "metadata": {},
   "outputs": [],
   "source": [
    "num_dirs = np.delete(num_dirs, (0), axis=0)\n",
    "deposit_amt = np.delete(deposit_amt, (0), axis=0)\n",
    "max_spd = np.delete(max_spd, (0), axis=0)\n",
    "max_frc = np.delete(max_frc, (0), axis=0)\n",
    "dec_rate = np.delete(dec_rate, (0), axis=0)\n",
    "sense_dist = np.delete(sense_dist, (0), axis=0)\n",
    "slope_step = np.delete(slope_step, (0), axis=0)\n",
    "disp_size = np.delete(disp_size, (0), axis=0)"
   ]
  },
  {
   "cell_type": "code",
   "execution_count": 26,
   "metadata": {},
   "outputs": [
    {
     "data": {
      "text/plain": [
       "2.0"
      ]
     },
     "execution_count": 26,
     "metadata": {},
     "output_type": "execute_result"
    }
   ],
   "source": [
    "num_dirs[0]"
   ]
  },
  {
   "cell_type": "code",
   "execution_count": 6,
   "metadata": {},
   "outputs": [],
   "source": [
    "x = data[:,:49]"
   ]
  },
  {
   "cell_type": "code",
   "execution_count": 37,
   "metadata": {},
   "outputs": [
    {
     "data": {
      "text/html": [
       "<div>\n",
       "<style scoped>\n",
       "    .dataframe tbody tr th:only-of-type {\n",
       "        vertical-align: middle;\n",
       "    }\n",
       "\n",
       "    .dataframe tbody tr th {\n",
       "        vertical-align: top;\n",
       "    }\n",
       "\n",
       "    .dataframe thead th {\n",
       "        text-align: right;\n",
       "    }\n",
       "</style>\n",
       "<table border=\"1\" class=\"dataframe\">\n",
       "  <thead>\n",
       "    <tr style=\"text-align: right;\">\n",
       "      <th></th>\n",
       "      <th>avg_onset</th>\n",
       "      <th>spec_centroid</th>\n",
       "      <th>mfcc1</th>\n",
       "      <th>mfcc2</th>\n",
       "      <th>mfcc3</th>\n",
       "      <th>mfcc4</th>\n",
       "      <th>mfcc5</th>\n",
       "      <th>mfcc6</th>\n",
       "      <th>mfcc7</th>\n",
       "      <th>mfcc8</th>\n",
       "      <th>...</th>\n",
       "      <th>spec_spread</th>\n",
       "      <th>spec_flux</th>\n",
       "      <th>num_dirs</th>\n",
       "      <th>deposit_amt</th>\n",
       "      <th>max_spd</th>\n",
       "      <th>max_frc</th>\n",
       "      <th>dec_rate</th>\n",
       "      <th>sense_dist</th>\n",
       "      <th>slope_step</th>\n",
       "      <th>disp_size</th>\n",
       "    </tr>\n",
       "  </thead>\n",
       "  <tbody>\n",
       "    <tr>\n",
       "      <th>0</th>\n",
       "      <td>154.313004</td>\n",
       "      <td>0.000000</td>\n",
       "      <td>0.0</td>\n",
       "      <td>0.000000</td>\n",
       "      <td>0.000000</td>\n",
       "      <td>0.000000</td>\n",
       "      <td>0.000000</td>\n",
       "      <td>0.000000</td>\n",
       "      <td>0.000000</td>\n",
       "      <td>0.000000</td>\n",
       "      <td>...</td>\n",
       "      <td>0.000000</td>\n",
       "      <td>25.528242</td>\n",
       "      <td>2</td>\n",
       "      <td>8</td>\n",
       "      <td>6</td>\n",
       "      <td>6</td>\n",
       "      <td>4</td>\n",
       "      <td>3</td>\n",
       "      <td>1</td>\n",
       "      <td>1</td>\n",
       "    </tr>\n",
       "    <tr>\n",
       "      <th>1</th>\n",
       "      <td>1466.093018</td>\n",
       "      <td>1923.234009</td>\n",
       "      <td>0.0</td>\n",
       "      <td>0.333913</td>\n",
       "      <td>0.443973</td>\n",
       "      <td>0.336422</td>\n",
       "      <td>0.335821</td>\n",
       "      <td>0.283703</td>\n",
       "      <td>0.283886</td>\n",
       "      <td>0.273554</td>\n",
       "      <td>...</td>\n",
       "      <td>4423.216309</td>\n",
       "      <td>1.262220</td>\n",
       "      <td>2</td>\n",
       "      <td>8</td>\n",
       "      <td>6</td>\n",
       "      <td>6</td>\n",
       "      <td>4</td>\n",
       "      <td>3</td>\n",
       "      <td>1</td>\n",
       "      <td>1</td>\n",
       "    </tr>\n",
       "    <tr>\n",
       "      <th>2</th>\n",
       "      <td>1466.093018</td>\n",
       "      <td>1923.234009</td>\n",
       "      <td>0.0</td>\n",
       "      <td>0.333913</td>\n",
       "      <td>0.443973</td>\n",
       "      <td>0.336422</td>\n",
       "      <td>0.335821</td>\n",
       "      <td>0.283703</td>\n",
       "      <td>0.283886</td>\n",
       "      <td>0.273554</td>\n",
       "      <td>...</td>\n",
       "      <td>4423.216309</td>\n",
       "      <td>1.262220</td>\n",
       "      <td>2</td>\n",
       "      <td>8</td>\n",
       "      <td>6</td>\n",
       "      <td>6</td>\n",
       "      <td>4</td>\n",
       "      <td>3</td>\n",
       "      <td>1</td>\n",
       "      <td>1</td>\n",
       "    </tr>\n",
       "    <tr>\n",
       "      <th>3</th>\n",
       "      <td>1466.093018</td>\n",
       "      <td>1923.234009</td>\n",
       "      <td>0.0</td>\n",
       "      <td>0.333913</td>\n",
       "      <td>0.443973</td>\n",
       "      <td>0.336422</td>\n",
       "      <td>0.335821</td>\n",
       "      <td>0.283703</td>\n",
       "      <td>0.283886</td>\n",
       "      <td>0.273554</td>\n",
       "      <td>...</td>\n",
       "      <td>4423.216309</td>\n",
       "      <td>1.262220</td>\n",
       "      <td>2</td>\n",
       "      <td>8</td>\n",
       "      <td>6</td>\n",
       "      <td>6</td>\n",
       "      <td>4</td>\n",
       "      <td>3</td>\n",
       "      <td>1</td>\n",
       "      <td>1</td>\n",
       "    </tr>\n",
       "    <tr>\n",
       "      <th>4</th>\n",
       "      <td>1466.093018</td>\n",
       "      <td>1923.234009</td>\n",
       "      <td>0.0</td>\n",
       "      <td>0.333913</td>\n",
       "      <td>0.443973</td>\n",
       "      <td>0.336422</td>\n",
       "      <td>0.335821</td>\n",
       "      <td>0.283703</td>\n",
       "      <td>0.283886</td>\n",
       "      <td>0.273554</td>\n",
       "      <td>...</td>\n",
       "      <td>4423.216309</td>\n",
       "      <td>1.262220</td>\n",
       "      <td>2</td>\n",
       "      <td>8</td>\n",
       "      <td>6</td>\n",
       "      <td>6</td>\n",
       "      <td>4</td>\n",
       "      <td>3</td>\n",
       "      <td>1</td>\n",
       "      <td>1</td>\n",
       "    </tr>\n",
       "  </tbody>\n",
       "</table>\n",
       "<p>5 rows × 57 columns</p>\n",
       "</div>"
      ],
      "text/plain": [
       "     avg_onset  spec_centroid  mfcc1     mfcc2     mfcc3     mfcc4     mfcc5  \\\n",
       "0   154.313004       0.000000    0.0  0.000000  0.000000  0.000000  0.000000   \n",
       "1  1466.093018    1923.234009    0.0  0.333913  0.443973  0.336422  0.335821   \n",
       "2  1466.093018    1923.234009    0.0  0.333913  0.443973  0.336422  0.335821   \n",
       "3  1466.093018    1923.234009    0.0  0.333913  0.443973  0.336422  0.335821   \n",
       "4  1466.093018    1923.234009    0.0  0.333913  0.443973  0.336422  0.335821   \n",
       "\n",
       "      mfcc6     mfcc7     mfcc8  ...  spec_spread  spec_flux  num_dirs  \\\n",
       "0  0.000000  0.000000  0.000000  ...     0.000000  25.528242         2   \n",
       "1  0.283703  0.283886  0.273554  ...  4423.216309   1.262220         2   \n",
       "2  0.283703  0.283886  0.273554  ...  4423.216309   1.262220         2   \n",
       "3  0.283703  0.283886  0.273554  ...  4423.216309   1.262220         2   \n",
       "4  0.283703  0.283886  0.273554  ...  4423.216309   1.262220         2   \n",
       "\n",
       "   deposit_amt  max_spd  max_frc  dec_rate  sense_dist  slope_step  disp_size  \n",
       "0            8        6        6         4           3           1          1  \n",
       "1            8        6        6         4           3           1          1  \n",
       "2            8        6        6         4           3           1          1  \n",
       "3            8        6        6         4           3           1          1  \n",
       "4            8        6        6         4           3           1          1  \n",
       "\n",
       "[5 rows x 57 columns]"
      ]
     },
     "execution_count": 37,
     "metadata": {},
     "output_type": "execute_result"
    }
   ],
   "source": [
    "csv_data.head()"
   ]
  },
  {
   "cell_type": "code",
   "execution_count": 7,
   "metadata": {},
   "outputs": [],
   "source": [
    "x = np.delete(x, (0), axis=0)"
   ]
  },
  {
   "cell_type": "code",
   "execution_count": 8,
   "metadata": {},
   "outputs": [],
   "source": [
    "from sklearn.preprocessing import MinMaxScaler\n"
   ]
  },
  {
   "cell_type": "code",
   "execution_count": 9,
   "metadata": {},
   "outputs": [],
   "source": [
    "scaler = MinMaxScaler(feature_range=(0,1))\n",
    "x_norm = scaler.fit_transform(x)"
   ]
  },
  {
   "cell_type": "code",
   "execution_count": 10,
   "metadata": {},
   "outputs": [
    {
     "data": {
      "text/plain": [
       "(38046, 49)"
      ]
     },
     "execution_count": 10,
     "metadata": {},
     "output_type": "execute_result"
    }
   ],
   "source": [
    "x.shape"
   ]
  },
  {
   "cell_type": "code",
   "execution_count": 12,
   "metadata": {},
   "outputs": [],
   "source": [
    "for i in range(len(num_dirs)):\n",
    "    num_dirs[i] = num_dirs[i] -1"
   ]
  },
  {
   "cell_type": "code",
   "execution_count": 13,
   "metadata": {},
   "outputs": [
    {
     "data": {
      "text/plain": [
       "Counter({0.0: 1316,\n",
       "         1.0: 1202,\n",
       "         2.0: 3953,\n",
       "         3.0: 2149,\n",
       "         4.0: 1570,\n",
       "         6.0: 1643,\n",
       "         7.0: 3434,\n",
       "         8.0: 4955,\n",
       "         9.0: 1467,\n",
       "         10.0: 1180,\n",
       "         12.0: 15177})"
      ]
     },
     "execution_count": 13,
     "metadata": {},
     "output_type": "execute_result"
    }
   ],
   "source": [
    "import collections\n",
    "collections.Counter(num_dirs)"
   ]
  },
  {
   "cell_type": "code",
   "execution_count": 11,
   "metadata": {},
   "outputs": [],
   "source": [
    "from sklearn.utils import shuffle"
   ]
  },
  {
   "cell_type": "code",
   "execution_count": 12,
   "metadata": {},
   "outputs": [],
   "source": [
    "x_norm, num_dirs, deposit_amt, max_spd, max_frc, dec_rate,sense_dist,slope_step,disp_size = shuffle(x_norm, num_dirs, deposit_amt, max_spd, max_frc, dec_rate,sense_dist,slope_step,disp_size)"
   ]
  },
  {
   "cell_type": "code",
   "execution_count": 13,
   "metadata": {},
   "outputs": [],
   "source": [
    "import tensorflow as tf\n",
    "from tensorflow import keras\n",
    "from tensorflow.python.keras.models import Sequential\n",
    "from tensorflow.python.keras.layers import Activation, Dense, LeakyReLU\n",
    "from tensorflow.python.keras.optimizers import Adam\n",
    "from tensorflow.python.keras.metrics import categorical_crossentropy"
   ]
  },
  {
   "cell_type": "code",
   "execution_count": 14,
   "metadata": {},
   "outputs": [],
   "source": [
    "from tensorflow.python.keras.callbacks import TensorBoard"
   ]
  },
  {
   "cell_type": "code",
   "execution_count": 18,
   "metadata": {},
   "outputs": [],
   "source": [
    "NAME =\"sequential-128x256x512-relu-50E\"\n",
    "tensorboard = TensorBoard(log_dir=\"logs/{}\".format(NAME))"
   ]
  },
  {
   "cell_type": "code",
   "execution_count": 15,
   "metadata": {},
   "outputs": [],
   "source": [
    "train_x = x_norm[:5000,:]\n",
    "train_num_dirs = num_dirs[:5000]"
   ]
  },
  {
   "cell_type": "markdown",
   "metadata": {},
   "source": [
    "# NUM DIRECTIONS MODEL"
   ]
  },
  {
   "cell_type": "code",
   "execution_count": 20,
   "metadata": {},
   "outputs": [
    {
     "name": "stdout",
     "output_type": "stream",
     "text": [
      "WARNING:tensorflow:From /home/samuelc/python2env/lib/python2.7/site-packages/tensorflow/python/keras/_impl/keras/backend.py:1557: calling reduce_mean (from tensorflow.python.ops.math_ops) with keep_dims is deprecated and will be removed in a future version.\n",
      "Instructions for updating:\n",
      "keep_dims is deprecated, use keepdims instead\n",
      "WARNING:tensorflow:From /home/samuelc/python2env/lib/python2.7/site-packages/tensorflow/python/keras/_impl/keras/backend.py:1422: calling reduce_max (from tensorflow.python.ops.math_ops) with keep_dims is deprecated and will be removed in a future version.\n",
      "Instructions for updating:\n",
      "keep_dims is deprecated, use keepdims instead\n"
     ]
    }
   ],
   "source": [
    "num_dir_model = Sequential([\n",
    "    Dense(units=128, input_shape=(49,), activation='relu'),\n",
    "    Dense(units=256,activation='relu'),\n",
    "    Dense(units=512,activation='relu'),\n",
    "    Dense(units=13, activation='softmax')\n",
    "])\n",
    "num_dir_model.compile(optimizer=Adam(lr=0.0001),loss='sparse_categorical_crossentropy', metrics=['accuracy'])"
   ]
  },
  {
   "cell_type": "code",
   "execution_count": 21,
   "metadata": {
    "scrolled": true
   },
   "outputs": [
    {
     "name": "stdout",
     "output_type": "stream",
     "text": [
      "Train on 4950 samples, validate on 50 samples\n",
      "Epoch 1/50\n",
      " - 7s - loss: 1.9165 - acc: 0.4103 - val_loss: 1.6674 - val_acc: 0.5000\n",
      "Epoch 2/50\n",
      " - 7s - loss: 1.6038 - acc: 0.4927 - val_loss: 1.4591 - val_acc: 0.5800\n",
      "Epoch 3/50\n",
      " - 7s - loss: 1.4421 - acc: 0.5273 - val_loss: 1.3372 - val_acc: 0.5800\n",
      "Epoch 4/50\n",
      " - 8s - loss: 1.3421 - acc: 0.5505 - val_loss: 1.2498 - val_acc: 0.5600\n",
      "Epoch 5/50\n",
      " - 9s - loss: 1.2604 - acc: 0.5745 - val_loss: 1.1972 - val_acc: 0.6000\n",
      "Epoch 6/50\n",
      " - 11s - loss: 1.2006 - acc: 0.5937 - val_loss: 1.1849 - val_acc: 0.5800\n",
      "Epoch 7/50\n",
      " - 9s - loss: 1.1480 - acc: 0.6081 - val_loss: 1.0773 - val_acc: 0.6600\n",
      "Epoch 8/50\n",
      " - 8s - loss: 1.1090 - acc: 0.6214 - val_loss: 1.0547 - val_acc: 0.6600\n",
      "Epoch 9/50\n",
      " - 8s - loss: 1.0669 - acc: 0.6438 - val_loss: 1.0442 - val_acc: 0.6800\n",
      "Epoch 10/50\n",
      " - 8s - loss: 1.0359 - acc: 0.6461 - val_loss: 1.0352 - val_acc: 0.6800\n",
      "Epoch 11/50\n",
      " - 9s - loss: 1.0042 - acc: 0.6576 - val_loss: 0.9667 - val_acc: 0.6800\n",
      "Epoch 12/50\n",
      " - 9s - loss: 0.9723 - acc: 0.6745 - val_loss: 0.9607 - val_acc: 0.7400\n",
      "Epoch 13/50\n",
      " - 9s - loss: 0.9460 - acc: 0.6816 - val_loss: 0.9055 - val_acc: 0.7800\n",
      "Epoch 14/50\n",
      " - 9s - loss: 0.9217 - acc: 0.6804 - val_loss: 0.8951 - val_acc: 0.7800\n",
      "Epoch 15/50\n",
      " - 9s - loss: 0.8942 - acc: 0.6966 - val_loss: 0.8783 - val_acc: 0.7400\n",
      "Epoch 16/50\n",
      " - 9s - loss: 0.8752 - acc: 0.6992 - val_loss: 0.8617 - val_acc: 0.7400\n",
      "Epoch 17/50\n",
      " - 9s - loss: 0.8503 - acc: 0.7042 - val_loss: 0.8222 - val_acc: 0.7400\n",
      "Epoch 18/50\n",
      " - 9s - loss: 0.8303 - acc: 0.7182 - val_loss: 0.7470 - val_acc: 0.8000\n",
      "Epoch 19/50\n",
      " - 9s - loss: 0.8088 - acc: 0.7251 - val_loss: 0.8111 - val_acc: 0.7400\n",
      "Epoch 20/50\n",
      " - 8s - loss: 0.7929 - acc: 0.7303 - val_loss: 0.7008 - val_acc: 0.8000\n",
      "Epoch 21/50\n",
      " - 11s - loss: 0.7712 - acc: 0.7343 - val_loss: 0.7366 - val_acc: 0.7800\n",
      "Epoch 22/50\n",
      " - 10s - loss: 0.7513 - acc: 0.7396 - val_loss: 0.7111 - val_acc: 0.7600\n",
      "Epoch 23/50\n",
      " - 9s - loss: 0.7326 - acc: 0.7517 - val_loss: 0.6506 - val_acc: 0.8200\n",
      "Epoch 24/50\n",
      " - 10s - loss: 0.7133 - acc: 0.7568 - val_loss: 0.6559 - val_acc: 0.8000\n",
      "Epoch 25/50\n",
      " - 11s - loss: 0.6989 - acc: 0.7572 - val_loss: 0.6595 - val_acc: 0.7600\n",
      "Epoch 26/50\n",
      " - 11s - loss: 0.6820 - acc: 0.7636 - val_loss: 0.6200 - val_acc: 0.8000\n",
      "Epoch 27/50\n",
      " - 9s - loss: 0.6711 - acc: 0.7719 - val_loss: 0.6101 - val_acc: 0.7800\n",
      "Epoch 28/50\n",
      " - 9s - loss: 0.6476 - acc: 0.7794 - val_loss: 0.5778 - val_acc: 0.8000\n",
      "Epoch 29/50\n",
      " - 8s - loss: 0.6376 - acc: 0.7846 - val_loss: 0.5561 - val_acc: 0.8400\n",
      "Epoch 30/50\n",
      " - 8s - loss: 0.6206 - acc: 0.7921 - val_loss: 0.5086 - val_acc: 0.9000\n",
      "Epoch 31/50\n",
      " - 8s - loss: 0.6084 - acc: 0.7931 - val_loss: 0.4955 - val_acc: 0.8200\n",
      "Epoch 32/50\n",
      " - 8s - loss: 0.5910 - acc: 0.8010 - val_loss: 0.5147 - val_acc: 0.8800\n",
      "Epoch 33/50\n",
      " - 8s - loss: 0.5762 - acc: 0.8065 - val_loss: 0.5264 - val_acc: 0.8000\n",
      "Epoch 34/50\n",
      " - 8s - loss: 0.5616 - acc: 0.8111 - val_loss: 0.4557 - val_acc: 0.9000\n",
      "Epoch 35/50\n",
      " - 8s - loss: 0.5496 - acc: 0.8125 - val_loss: 0.4796 - val_acc: 0.8600\n",
      "Epoch 36/50\n",
      " - 8s - loss: 0.5419 - acc: 0.8115 - val_loss: 0.5358 - val_acc: 0.8400\n",
      "Epoch 37/50\n",
      " - 8s - loss: 0.5230 - acc: 0.8186 - val_loss: 0.4932 - val_acc: 0.8200\n",
      "Epoch 38/50\n",
      " - 8s - loss: 0.5110 - acc: 0.8313 - val_loss: 0.4522 - val_acc: 0.8200\n",
      "Epoch 39/50\n",
      " - 8s - loss: 0.4988 - acc: 0.8380 - val_loss: 0.4262 - val_acc: 0.9000\n",
      "Epoch 40/50\n",
      " - 8s - loss: 0.4898 - acc: 0.8327 - val_loss: 0.3713 - val_acc: 0.9200\n",
      "Epoch 41/50\n",
      " - 8s - loss: 0.4733 - acc: 0.8390 - val_loss: 0.4544 - val_acc: 0.8800\n",
      "Epoch 42/50\n",
      " - 10s - loss: 0.4665 - acc: 0.8459 - val_loss: 0.4084 - val_acc: 0.8800\n",
      "Epoch 43/50\n",
      " - 12s - loss: 0.4465 - acc: 0.8517 - val_loss: 0.3948 - val_acc: 0.9200\n",
      "Epoch 44/50\n",
      " - 11s - loss: 0.4374 - acc: 0.8539 - val_loss: 0.4495 - val_acc: 0.8600\n",
      "Epoch 45/50\n",
      " - 11s - loss: 0.4325 - acc: 0.8568 - val_loss: 0.3596 - val_acc: 0.9200\n",
      "Epoch 46/50\n",
      " - 11s - loss: 0.4129 - acc: 0.8648 - val_loss: 0.3278 - val_acc: 0.9200\n",
      "Epoch 47/50\n",
      " - 9s - loss: 0.4030 - acc: 0.8721 - val_loss: 0.3064 - val_acc: 0.9600\n",
      "Epoch 48/50\n",
      " - 10s - loss: 0.3938 - acc: 0.8735 - val_loss: 0.3085 - val_acc: 0.9600\n",
      "Epoch 49/50\n",
      " - 11s - loss: 0.3843 - acc: 0.8790 - val_loss: 0.3380 - val_acc: 0.9400\n",
      "Epoch 50/50\n",
      " - 9s - loss: 0.3711 - acc: 0.8869 - val_loss: 0.3425 - val_acc: 0.9000\n"
     ]
    },
    {
     "data": {
      "text/plain": [
       "<tensorflow.python.keras._impl.keras.callbacks.History at 0x7f376a45e990>"
      ]
     },
     "execution_count": 21,
     "metadata": {},
     "output_type": "execute_result"
    }
   ],
   "source": [
    "num_dir_model.fit(x=train_x,\n",
    "                  y=train_num_dirs,\n",
    "                  batch_size=10,\n",
    "                  verbose=2, \n",
    "                  validation_split=.01,\n",
    "                  epochs=50,\n",
    "                  callbacks=[tensorboard])"
   ]
  },
  {
   "cell_type": "code",
   "execution_count": 30,
   "metadata": {},
   "outputs": [],
   "source": [
    "num_dir_model.save('num_dir.h5')"
   ]
  },
  {
   "cell_type": "markdown",
   "metadata": {},
   "source": [
    "# DEPOSIT AMOUNT MODEL"
   ]
  },
  {
   "cell_type": "code",
   "execution_count": 25,
   "metadata": {},
   "outputs": [],
   "source": [
    "for i in range(len(deposit_amt)):\n",
    "    deposit_amt[i] = deposit_amt[i] -1"
   ]
  },
  {
   "cell_type": "code",
   "execution_count": 26,
   "metadata": {},
   "outputs": [],
   "source": [
    "train_deposit_amt = deposit_amt[:5000]"
   ]
  },
  {
   "cell_type": "code",
   "execution_count": 23,
   "metadata": {},
   "outputs": [],
   "source": [
    "NAME2 =\"deposit_amt\"\n",
    "tensorboard2 = TensorBoard(log_dir=\"logs/{}\".format(NAME))"
   ]
  },
  {
   "cell_type": "code",
   "execution_count": 27,
   "metadata": {},
   "outputs": [],
   "source": [
    "dep_amt_model = Sequential([\n",
    "    Dense(units=128, input_shape=(49,), activation='relu'),\n",
    "    Dense(units=256,activation='relu'),\n",
    "    Dense(units=512,activation='relu'),\n",
    "    Dense(units=10, activation='softmax')\n",
    "])\n",
    "dep_amt_model.compile(optimizer=Adam(lr=0.0001),loss='sparse_categorical_crossentropy', metrics=['accuracy'])"
   ]
  },
  {
   "cell_type": "code",
   "execution_count": 31,
   "metadata": {
    "scrolled": true
   },
   "outputs": [
    {
     "name": "stdout",
     "output_type": "stream",
     "text": [
      "Train on 4950 samples, validate on 50 samples\n",
      "Epoch 1/50\n",
      " - 6s - loss: 1.8979 - acc: 0.3141 - val_loss: 1.6239 - val_acc: 0.4400\n",
      "Epoch 2/50\n",
      " - 10s - loss: 1.6268 - acc: 0.4208 - val_loss: 1.4728 - val_acc: 0.5400\n",
      "Epoch 3/50\n",
      " - 9s - loss: 1.5077 - acc: 0.4592 - val_loss: 1.4352 - val_acc: 0.4400\n",
      "Epoch 4/50\n",
      " - 7s - loss: 1.4229 - acc: 0.4897 - val_loss: 1.2971 - val_acc: 0.6000\n",
      "Epoch 5/50\n",
      " - 7s - loss: 1.3489 - acc: 0.5248 - val_loss: 1.2320 - val_acc: 0.6000\n",
      "Epoch 6/50\n",
      " - 8s - loss: 1.2893 - acc: 0.5388 - val_loss: 1.1900 - val_acc: 0.6400\n",
      "Epoch 7/50\n",
      " - 9s - loss: 1.2359 - acc: 0.5584 - val_loss: 1.1233 - val_acc: 0.7200\n",
      "Epoch 8/50\n",
      " - 9s - loss: 1.1850 - acc: 0.5752 - val_loss: 1.0867 - val_acc: 0.7000\n",
      "Epoch 9/50\n",
      " - 10s - loss: 1.1489 - acc: 0.5873 - val_loss: 1.0428 - val_acc: 0.6800\n",
      "Epoch 10/50\n",
      " - 11s - loss: 1.1063 - acc: 0.6038 - val_loss: 0.9967 - val_acc: 0.7600\n",
      "Epoch 11/50\n",
      " - 8s - loss: 1.0753 - acc: 0.6127 - val_loss: 0.9891 - val_acc: 0.7000\n",
      "Epoch 12/50\n",
      " - 9s - loss: 1.0401 - acc: 0.6291 - val_loss: 0.9526 - val_acc: 0.7400\n",
      "Epoch 13/50\n",
      " - 9s - loss: 1.0049 - acc: 0.6418 - val_loss: 0.9175 - val_acc: 0.7200\n",
      "Epoch 14/50\n",
      " - 8s - loss: 0.9731 - acc: 0.6618 - val_loss: 0.9529 - val_acc: 0.7600\n",
      "Epoch 15/50\n",
      " - 8s - loss: 0.9501 - acc: 0.6691 - val_loss: 0.8541 - val_acc: 0.7000\n",
      "Epoch 16/50\n",
      " - 9s - loss: 0.9183 - acc: 0.6881 - val_loss: 0.8697 - val_acc: 0.7600\n",
      "Epoch 17/50\n",
      " - 8s - loss: 0.8931 - acc: 0.6939 - val_loss: 0.8113 - val_acc: 0.7800\n",
      "Epoch 18/50\n",
      " - 8s - loss: 0.8763 - acc: 0.7048 - val_loss: 0.8104 - val_acc: 0.7600\n",
      "Epoch 19/50\n",
      " - 8s - loss: 0.8489 - acc: 0.7099 - val_loss: 0.8069 - val_acc: 0.7800\n",
      "Epoch 20/50\n",
      " - 8s - loss: 0.8322 - acc: 0.7194 - val_loss: 0.7639 - val_acc: 0.8000\n",
      "Epoch 21/50\n",
      " - 8s - loss: 0.8063 - acc: 0.7325 - val_loss: 0.7350 - val_acc: 0.8000\n",
      "Epoch 22/50\n",
      " - 8s - loss: 0.7857 - acc: 0.7394 - val_loss: 0.8088 - val_acc: 0.7400\n",
      "Epoch 23/50\n",
      " - 9s - loss: 0.7666 - acc: 0.7493 - val_loss: 0.7123 - val_acc: 0.8200\n",
      "Epoch 24/50\n",
      " - 8s - loss: 0.7453 - acc: 0.7525 - val_loss: 0.6908 - val_acc: 0.8200\n",
      "Epoch 25/50\n",
      " - 8s - loss: 0.7266 - acc: 0.7570 - val_loss: 0.6837 - val_acc: 0.8200\n",
      "Epoch 26/50\n",
      " - 8s - loss: 0.7098 - acc: 0.7653 - val_loss: 0.6466 - val_acc: 0.8000\n",
      "Epoch 27/50\n",
      " - 9s - loss: 0.6907 - acc: 0.7735 - val_loss: 0.6325 - val_acc: 0.8000\n",
      "Epoch 28/50\n",
      " - 9s - loss: 0.6722 - acc: 0.7808 - val_loss: 0.6640 - val_acc: 0.8000\n",
      "Epoch 29/50\n",
      " - 8s - loss: 0.6530 - acc: 0.7891 - val_loss: 0.5755 - val_acc: 0.8400\n",
      "Epoch 30/50\n",
      " - 9s - loss: 0.6410 - acc: 0.7907 - val_loss: 0.6093 - val_acc: 0.8200\n",
      "Epoch 31/50\n",
      " - 8s - loss: 0.6214 - acc: 0.7966 - val_loss: 0.5796 - val_acc: 0.8400\n",
      "Epoch 32/50\n",
      " - 9s - loss: 0.6064 - acc: 0.8034 - val_loss: 0.5950 - val_acc: 0.8400\n",
      "Epoch 33/50\n",
      " - 10s - loss: 0.5897 - acc: 0.8101 - val_loss: 0.5126 - val_acc: 0.8400\n",
      "Epoch 34/50\n",
      " - 9s - loss: 0.5765 - acc: 0.8125 - val_loss: 0.5433 - val_acc: 0.8600\n",
      "Epoch 35/50\n",
      " - 11s - loss: 0.5632 - acc: 0.8162 - val_loss: 0.5044 - val_acc: 0.8400\n",
      "Epoch 36/50\n",
      " - 9s - loss: 0.5497 - acc: 0.8244 - val_loss: 0.5572 - val_acc: 0.8400\n",
      "Epoch 37/50\n",
      " - 9s - loss: 0.5391 - acc: 0.8253 - val_loss: 0.5255 - val_acc: 0.8600\n",
      "Epoch 38/50\n",
      " - 8s - loss: 0.5251 - acc: 0.8311 - val_loss: 0.4624 - val_acc: 0.8200\n",
      "Epoch 39/50\n",
      " - 8s - loss: 0.5128 - acc: 0.8323 - val_loss: 0.4978 - val_acc: 0.8800\n",
      "Epoch 40/50\n",
      " - 9s - loss: 0.4977 - acc: 0.8400 - val_loss: 0.4373 - val_acc: 0.8400\n",
      "Epoch 41/50\n",
      " - 9s - loss: 0.4813 - acc: 0.8471 - val_loss: 0.4504 - val_acc: 0.8800\n",
      "Epoch 42/50\n",
      " - 8s - loss: 0.4803 - acc: 0.8467 - val_loss: 0.4475 - val_acc: 0.8600\n",
      "Epoch 43/50\n",
      " - 8s - loss: 0.4601 - acc: 0.8566 - val_loss: 0.4106 - val_acc: 0.8400\n",
      "Epoch 44/50\n",
      " - 9s - loss: 0.4483 - acc: 0.8590 - val_loss: 0.3862 - val_acc: 0.8600\n",
      "Epoch 45/50\n",
      " - 8s - loss: 0.4443 - acc: 0.8628 - val_loss: 0.4851 - val_acc: 0.9000\n",
      "Epoch 46/50\n",
      " - 8s - loss: 0.4279 - acc: 0.8675 - val_loss: 0.3888 - val_acc: 0.8800\n",
      "Epoch 47/50\n",
      " - 9s - loss: 0.4206 - acc: 0.8659 - val_loss: 0.3335 - val_acc: 0.9000\n",
      "Epoch 48/50\n",
      " - 9s - loss: 0.4102 - acc: 0.8741 - val_loss: 0.3771 - val_acc: 0.8600\n",
      "Epoch 49/50\n",
      " - 8s - loss: 0.3976 - acc: 0.8808 - val_loss: 0.3710 - val_acc: 0.9000\n",
      "Epoch 50/50\n",
      " - 8s - loss: 0.3913 - acc: 0.8770 - val_loss: 0.3342 - val_acc: 0.9000\n"
     ]
    },
    {
     "data": {
      "text/plain": [
       "<tensorflow.python.keras._impl.keras.callbacks.History at 0x7f3762f59ed0>"
      ]
     },
     "execution_count": 31,
     "metadata": {},
     "output_type": "execute_result"
    }
   ],
   "source": [
    "dep_amt_model.fit(x=train_x,\n",
    "                  y=train_deposit_amt,\n",
    "                  batch_size=10,\n",
    "                  verbose=2, b\n",
    "                  validation_split=.01,\n",
    "                  epochs=50,\n",
    "                  callbacks=[tensorboard2])"
   ]
  },
  {
   "cell_type": "code",
   "execution_count": 32,
   "metadata": {},
   "outputs": [],
   "source": [
    "dep_amt_model.save('depost_amt.h5')"
   ]
  },
  {
   "cell_type": "markdown",
   "metadata": {},
   "source": [
    "\n",
    "# MAX SPEED MODEL"
   ]
  },
  {
   "cell_type": "code",
   "execution_count": 33,
   "metadata": {},
   "outputs": [],
   "source": [
    "for i in range(len(max_spd)):\n",
    "    max_spd[i] = max_spd[i] -1"
   ]
  },
  {
   "cell_type": "code",
   "execution_count": 34,
   "metadata": {},
   "outputs": [],
   "source": [
    "train_max_spd = max_spd[:5000]"
   ]
  },
  {
   "cell_type": "code",
   "execution_count": 35,
   "metadata": {},
   "outputs": [],
   "source": [
    "NAME3 =\"max_speed\"\n",
    "tensorboard3 = TensorBoard(log_dir=\"logs/{}\".format(NAME3))"
   ]
  },
  {
   "cell_type": "code",
   "execution_count": 36,
   "metadata": {},
   "outputs": [],
   "source": [
    "max_spd_model = Sequential([\n",
    "    Dense(units=128, input_shape=(49,), activation='relu'),\n",
    "    Dense(units=256,activation='relu'),\n",
    "    Dense(units=512,activation='relu'),\n",
    "    Dense(units=10, activation='softmax')\n",
    "])\n",
    "max_spd_model.compile(optimizer=Adam(lr=0.0001),loss='sparse_categorical_crossentropy', metrics=['accuracy'])"
   ]
  },
  {
   "cell_type": "code",
   "execution_count": 38,
   "metadata": {
    "scrolled": true
   },
   "outputs": [
    {
     "name": "stdout",
     "output_type": "stream",
     "text": [
      "Train on 4950 samples, validate on 50 samples\n",
      "Epoch 1/50\n",
      " - 8s - loss: 1.7135 - acc: 0.3434 - val_loss: 1.5906 - val_acc: 0.4000\n",
      "Epoch 2/50\n",
      " - 9s - loss: 1.4768 - acc: 0.4366 - val_loss: 1.4241 - val_acc: 0.4400\n",
      "Epoch 3/50\n",
      " - 10s - loss: 1.3648 - acc: 0.4792 - val_loss: 1.3461 - val_acc: 0.4400\n",
      "Epoch 4/50\n",
      " - 8s - loss: 1.2735 - acc: 0.5174 - val_loss: 1.2718 - val_acc: 0.4600\n",
      "Epoch 5/50\n",
      " - 7s - loss: 1.2040 - acc: 0.5467 - val_loss: 1.2302 - val_acc: 0.5000\n",
      "Epoch 6/50\n",
      " - 7s - loss: 1.1431 - acc: 0.5725 - val_loss: 1.1711 - val_acc: 0.4800\n",
      "Epoch 7/50\n",
      " - 7s - loss: 1.0986 - acc: 0.5903 - val_loss: 1.1453 - val_acc: 0.5400\n",
      "Epoch 8/50\n",
      " - 7s - loss: 1.0513 - acc: 0.6117 - val_loss: 1.1083 - val_acc: 0.5600\n",
      "Epoch 9/50\n",
      " - 7s - loss: 1.0109 - acc: 0.6301 - val_loss: 1.1182 - val_acc: 0.6400\n",
      "Epoch 10/50\n",
      " - 8s - loss: 0.9743 - acc: 0.6457 - val_loss: 1.0020 - val_acc: 0.6600\n",
      "Epoch 11/50\n",
      " - 8s - loss: 0.9419 - acc: 0.6618 - val_loss: 0.9810 - val_acc: 0.6800\n",
      "Epoch 12/50\n",
      " - 8s - loss: 0.9095 - acc: 0.6747 - val_loss: 1.0192 - val_acc: 0.6200\n",
      "Epoch 13/50\n",
      " - 8s - loss: 0.8781 - acc: 0.6782 - val_loss: 0.9768 - val_acc: 0.6400\n",
      "Epoch 14/50\n",
      " - 9s - loss: 0.8444 - acc: 0.6945 - val_loss: 0.9394 - val_acc: 0.6200\n",
      "Epoch 15/50\n",
      " - 8s - loss: 0.8181 - acc: 0.7073 - val_loss: 0.8897 - val_acc: 0.7400\n",
      "Epoch 16/50\n",
      " - 8s - loss: 0.7900 - acc: 0.7202 - val_loss: 0.9037 - val_acc: 0.6600\n",
      "Epoch 17/50\n",
      " - 8s - loss: 0.7670 - acc: 0.7321 - val_loss: 0.9355 - val_acc: 0.6600\n",
      "Epoch 18/50\n",
      " - 8s - loss: 0.7405 - acc: 0.7386 - val_loss: 0.8517 - val_acc: 0.7000\n",
      "Epoch 19/50\n",
      " - 8s - loss: 0.7204 - acc: 0.7501 - val_loss: 0.8273 - val_acc: 0.6800\n",
      "Epoch 20/50\n",
      " - 8s - loss: 0.6959 - acc: 0.7596 - val_loss: 0.8484 - val_acc: 0.6800\n",
      "Epoch 21/50\n",
      " - 8s - loss: 0.6788 - acc: 0.7699 - val_loss: 0.7792 - val_acc: 0.7400\n",
      "Epoch 22/50\n",
      " - 8s - loss: 0.6591 - acc: 0.7768 - val_loss: 0.7654 - val_acc: 0.7200\n",
      "Epoch 23/50\n",
      " - 8s - loss: 0.6404 - acc: 0.7800 - val_loss: 0.7718 - val_acc: 0.7400\n",
      "Epoch 24/50\n",
      " - 8s - loss: 0.6240 - acc: 0.7865 - val_loss: 0.7531 - val_acc: 0.7000\n",
      "Epoch 25/50\n",
      " - 9s - loss: 0.6062 - acc: 0.7972 - val_loss: 0.7476 - val_acc: 0.7000\n",
      "Epoch 26/50\n",
      " - 8s - loss: 0.5876 - acc: 0.8040 - val_loss: 0.6802 - val_acc: 0.7600\n",
      "Epoch 27/50\n",
      " - 8s - loss: 0.5735 - acc: 0.8119 - val_loss: 0.6964 - val_acc: 0.7600\n",
      "Epoch 28/50\n",
      " - 8s - loss: 0.5569 - acc: 0.8139 - val_loss: 0.6953 - val_acc: 0.7600\n",
      "Epoch 29/50\n",
      " - 9s - loss: 0.5339 - acc: 0.8253 - val_loss: 0.6394 - val_acc: 0.7600\n",
      "Epoch 30/50\n",
      " - 11s - loss: 0.5227 - acc: 0.8317 - val_loss: 0.6433 - val_acc: 0.8200\n",
      "Epoch 31/50\n",
      " - 10s - loss: 0.5078 - acc: 0.8335 - val_loss: 0.6207 - val_acc: 0.8400\n",
      "Epoch 32/50\n",
      " - 11s - loss: 0.4879 - acc: 0.8430 - val_loss: 0.6189 - val_acc: 0.8000\n",
      "Epoch 33/50\n",
      " - 10s - loss: 0.4731 - acc: 0.8521 - val_loss: 0.6161 - val_acc: 0.8000\n",
      "Epoch 34/50\n",
      " - 10s - loss: 0.4651 - acc: 0.8535 - val_loss: 0.5551 - val_acc: 0.8600\n",
      "Epoch 35/50\n",
      " - 11s - loss: 0.4511 - acc: 0.8584 - val_loss: 0.5475 - val_acc: 0.8800\n",
      "Epoch 36/50\n",
      " - 10s - loss: 0.4356 - acc: 0.8644 - val_loss: 0.5307 - val_acc: 0.8600\n",
      "Epoch 37/50\n",
      " - 10s - loss: 0.4259 - acc: 0.8628 - val_loss: 0.5479 - val_acc: 0.8400\n",
      "Epoch 38/50\n",
      " - 10s - loss: 0.4159 - acc: 0.8663 - val_loss: 0.4912 - val_acc: 0.9000\n",
      "Epoch 39/50\n",
      " - 10s - loss: 0.4103 - acc: 0.8741 - val_loss: 0.4991 - val_acc: 0.8800\n",
      "Epoch 40/50\n",
      " - 10s - loss: 0.3931 - acc: 0.8810 - val_loss: 0.4750 - val_acc: 0.8800\n",
      "Epoch 41/50\n",
      " - 10s - loss: 0.3846 - acc: 0.8812 - val_loss: 0.4904 - val_acc: 0.9000\n",
      "Epoch 42/50\n",
      " - 11s - loss: 0.3671 - acc: 0.8855 - val_loss: 0.5128 - val_acc: 0.8600\n",
      "Epoch 43/50\n",
      " - 9s - loss: 0.3634 - acc: 0.8863 - val_loss: 0.4686 - val_acc: 0.9000\n",
      "Epoch 44/50\n",
      " - 9s - loss: 0.3465 - acc: 0.8939 - val_loss: 0.4620 - val_acc: 0.9200\n",
      "Epoch 45/50\n",
      " - 8s - loss: 0.3346 - acc: 0.8992 - val_loss: 0.4476 - val_acc: 0.8800\n",
      "Epoch 46/50\n",
      " - 8s - loss: 0.3323 - acc: 0.8964 - val_loss: 0.4006 - val_acc: 0.9200\n",
      "Epoch 47/50\n",
      " - 9s - loss: 0.3183 - acc: 0.9034 - val_loss: 0.4300 - val_acc: 0.9000\n",
      "Epoch 48/50\n",
      " - 10s - loss: 0.3114 - acc: 0.9075 - val_loss: 0.3949 - val_acc: 0.9200\n",
      "Epoch 49/50\n",
      " - 9s - loss: 0.3041 - acc: 0.9063 - val_loss: 0.4272 - val_acc: 0.9000\n",
      "Epoch 50/50\n",
      " - 9s - loss: 0.2882 - acc: 0.9125 - val_loss: 0.3445 - val_acc: 0.9200\n"
     ]
    },
    {
     "data": {
      "text/plain": [
       "<tensorflow.python.keras._impl.keras.callbacks.History at 0x7f37619effd0>"
      ]
     },
     "execution_count": 38,
     "metadata": {},
     "output_type": "execute_result"
    }
   ],
   "source": [
    "max_spd_model.fit(x=train_x,\n",
    "                  y=train_max_spd,\n",
    "                  batch_size=10,\n",
    "                  verbose=2, \n",
    "                  validation_split=.01,\n",
    "                  epochs=50,\n",
    "                  callbacks=[tensorboard3])"
   ]
  },
  {
   "cell_type": "code",
   "execution_count": 39,
   "metadata": {},
   "outputs": [],
   "source": [
    "max_spd_model.save('max_speed.h5')"
   ]
  },
  {
   "cell_type": "markdown",
   "metadata": {},
   "source": [
    "# MAX FORCE MODEL"
   ]
  },
  {
   "cell_type": "code",
   "execution_count": 40,
   "metadata": {},
   "outputs": [],
   "source": [
    "for i in range(len(max_frc)):\n",
    "    max_frc[i] = max_frc[i] -1\n",
    "    \n",
    "train_max_frc = max_frc[:5000]\n",
    "\n",
    "NAME4 =\"max_force\"\n",
    "tensorboard4 = TensorBoard(log_dir=\"logs/{}\".format(NAME4))\n",
    "\n",
    "max_frc_model = Sequential([\n",
    "    Dense(units=128, input_shape=(49,), activation='relu'),\n",
    "    Dense(units=256,activation='relu'),\n",
    "    Dense(units=512,activation='relu'),\n",
    "    Dense(units=13, activation='softmax')\n",
    "])\n",
    "\n",
    "max_frc_model.compile(optimizer=Adam(lr=0.0001),loss='sparse_categorical_crossentropy', metrics=['accuracy'])"
   ]
  },
  {
   "cell_type": "code",
   "execution_count": 41,
   "metadata": {
    "scrolled": true
   },
   "outputs": [
    {
     "name": "stdout",
     "output_type": "stream",
     "text": [
      "Train on 4950 samples, validate on 50 samples\n",
      "Epoch 1/50\n",
      " - 8s - loss: 1.9797 - acc: 0.3040 - val_loss: 1.7402 - val_acc: 0.5200\n",
      "Epoch 2/50\n",
      " - 10s - loss: 1.6531 - acc: 0.4265 - val_loss: 1.6223 - val_acc: 0.4800\n",
      "Epoch 3/50\n",
      " - 10s - loss: 1.5038 - acc: 0.4671 - val_loss: 1.4429 - val_acc: 0.4800\n",
      "Epoch 4/50\n",
      " - 9s - loss: 1.4246 - acc: 0.4812 - val_loss: 1.3583 - val_acc: 0.5200\n",
      "Epoch 5/50\n",
      " - 9s - loss: 1.3520 - acc: 0.5038 - val_loss: 1.2927 - val_acc: 0.5800\n",
      "Epoch 6/50\n",
      " - 9s - loss: 1.2932 - acc: 0.5301 - val_loss: 1.2339 - val_acc: 0.6000\n",
      "Epoch 7/50\n",
      " - 9s - loss: 1.2449 - acc: 0.5434 - val_loss: 1.2433 - val_acc: 0.5400\n",
      "Epoch 8/50\n",
      " - 11s - loss: 1.2007 - acc: 0.5675 - val_loss: 1.2232 - val_acc: 0.5600\n",
      "Epoch 9/50\n",
      " - 10s - loss: 1.1566 - acc: 0.5840 - val_loss: 1.0931 - val_acc: 0.6000\n",
      "Epoch 10/50\n",
      " - 10s - loss: 1.1203 - acc: 0.5964 - val_loss: 1.1173 - val_acc: 0.6200\n",
      "Epoch 11/50\n",
      " - 10s - loss: 1.0911 - acc: 0.6121 - val_loss: 1.0995 - val_acc: 0.6200\n",
      "Epoch 12/50\n",
      " - 9s - loss: 1.0579 - acc: 0.6244 - val_loss: 1.0614 - val_acc: 0.6000\n",
      "Epoch 13/50\n",
      " - 9s - loss: 1.0325 - acc: 0.6366 - val_loss: 1.0274 - val_acc: 0.5800\n",
      "Epoch 14/50\n",
      " - 9s - loss: 1.0007 - acc: 0.6479 - val_loss: 0.9861 - val_acc: 0.6800\n",
      "Epoch 15/50\n",
      " - 9s - loss: 0.9727 - acc: 0.6582 - val_loss: 0.9600 - val_acc: 0.6600\n",
      "Epoch 16/50\n",
      " - 9s - loss: 0.9483 - acc: 0.6663 - val_loss: 0.9219 - val_acc: 0.6600\n",
      "Epoch 17/50\n",
      " - 9s - loss: 0.9222 - acc: 0.6772 - val_loss: 0.9359 - val_acc: 0.6800\n",
      "Epoch 18/50\n",
      " - 9s - loss: 0.8975 - acc: 0.6958 - val_loss: 0.9069 - val_acc: 0.6800\n",
      "Epoch 19/50\n",
      " - 8s - loss: 0.8716 - acc: 0.7038 - val_loss: 0.9011 - val_acc: 0.7000\n",
      "Epoch 20/50\n",
      " - 8s - loss: 0.8562 - acc: 0.7030 - val_loss: 0.8255 - val_acc: 0.7200\n",
      "Epoch 21/50\n",
      " - 9s - loss: 0.8313 - acc: 0.7180 - val_loss: 0.8305 - val_acc: 0.7200\n",
      "Epoch 22/50\n",
      " - 8s - loss: 0.8111 - acc: 0.7271 - val_loss: 0.8367 - val_acc: 0.6800\n",
      "Epoch 23/50\n",
      " - 8s - loss: 0.7885 - acc: 0.7269 - val_loss: 0.8213 - val_acc: 0.7800\n",
      "Epoch 24/50\n",
      " - 8s - loss: 0.7727 - acc: 0.7382 - val_loss: 0.7875 - val_acc: 0.7200\n",
      "Epoch 25/50\n",
      " - 9s - loss: 0.7498 - acc: 0.7457 - val_loss: 0.7569 - val_acc: 0.7800\n",
      "Epoch 26/50\n",
      " - 8s - loss: 0.7340 - acc: 0.7537 - val_loss: 0.7489 - val_acc: 0.7400\n",
      "Epoch 27/50\n",
      " - 8s - loss: 0.7119 - acc: 0.7626 - val_loss: 0.7540 - val_acc: 0.7400\n",
      "Epoch 28/50\n",
      " - 9s - loss: 0.6954 - acc: 0.7667 - val_loss: 0.7820 - val_acc: 0.6800\n",
      "Epoch 29/50\n",
      " - 8s - loss: 0.6804 - acc: 0.7778 - val_loss: 0.6773 - val_acc: 0.7600\n",
      "Epoch 30/50\n",
      " - 8s - loss: 0.6626 - acc: 0.7796 - val_loss: 0.6714 - val_acc: 0.7800\n",
      "Epoch 31/50\n",
      " - 8s - loss: 0.6478 - acc: 0.7844 - val_loss: 0.6750 - val_acc: 0.7400\n",
      "Epoch 32/50\n",
      " - 9s - loss: 0.6298 - acc: 0.7871 - val_loss: 0.6963 - val_acc: 0.7800\n",
      "Epoch 33/50\n",
      " - 8s - loss: 0.6154 - acc: 0.7970 - val_loss: 0.7073 - val_acc: 0.7800\n",
      "Epoch 34/50\n",
      " - 8s - loss: 0.5982 - acc: 0.8030 - val_loss: 0.7479 - val_acc: 0.7600\n",
      "Epoch 35/50\n",
      " - 9s - loss: 0.5824 - acc: 0.8069 - val_loss: 0.6230 - val_acc: 0.8000\n",
      "Epoch 36/50\n",
      " - 8s - loss: 0.5751 - acc: 0.8097 - val_loss: 0.6446 - val_acc: 0.8000\n",
      "Epoch 37/50\n",
      " - 8s - loss: 0.5539 - acc: 0.8176 - val_loss: 0.5790 - val_acc: 0.8400\n",
      "Epoch 38/50\n",
      " - 8s - loss: 0.5381 - acc: 0.8234 - val_loss: 0.6048 - val_acc: 0.8200\n",
      "Epoch 39/50\n",
      " - 9s - loss: 0.5301 - acc: 0.8321 - val_loss: 0.5537 - val_acc: 0.8400\n",
      "Epoch 40/50\n",
      " - 8s - loss: 0.5182 - acc: 0.8305 - val_loss: 0.5659 - val_acc: 0.8600\n",
      "Epoch 41/50\n",
      " - 8s - loss: 0.5028 - acc: 0.8398 - val_loss: 0.5957 - val_acc: 0.7800\n",
      "Epoch 42/50\n",
      " - 9s - loss: 0.4868 - acc: 0.8483 - val_loss: 0.5539 - val_acc: 0.8600\n",
      "Epoch 43/50\n",
      " - 8s - loss: 0.4772 - acc: 0.8459 - val_loss: 0.5026 - val_acc: 0.8400\n",
      "Epoch 44/50\n",
      " - 8s - loss: 0.4636 - acc: 0.8562 - val_loss: 0.5287 - val_acc: 0.8400\n",
      "Epoch 45/50\n",
      " - 8s - loss: 0.4525 - acc: 0.8600 - val_loss: 0.5055 - val_acc: 0.9000\n",
      "Epoch 46/50\n",
      " - 10s - loss: 0.4455 - acc: 0.8636 - val_loss: 0.5291 - val_acc: 0.8400\n",
      "Epoch 47/50\n",
      " - 9s - loss: 0.4325 - acc: 0.8632 - val_loss: 0.4656 - val_acc: 0.8600\n",
      "Epoch 48/50\n",
      " - 9s - loss: 0.4226 - acc: 0.8727 - val_loss: 0.5188 - val_acc: 0.8400\n",
      "Epoch 49/50\n",
      " - 9s - loss: 0.4084 - acc: 0.8762 - val_loss: 0.4694 - val_acc: 0.8800\n",
      "Epoch 50/50\n",
      " - 9s - loss: 0.4029 - acc: 0.8772 - val_loss: 0.4790 - val_acc: 0.8400\n"
     ]
    },
    {
     "data": {
      "text/plain": [
       "<tensorflow.python.keras._impl.keras.callbacks.History at 0x7f37619bfd90>"
      ]
     },
     "execution_count": 41,
     "metadata": {},
     "output_type": "execute_result"
    }
   ],
   "source": [
    "max_frc_model.fit(x=train_x,\n",
    "                  y=train_max_frc,\n",
    "                  batch_size=10,\n",
    "                  verbose=2, \n",
    "                  validation_split=.01,\n",
    "                  epochs=50,\n",
    "                  callbacks=[tensorboard3])"
   ]
  },
  {
   "cell_type": "code",
   "execution_count": 42,
   "metadata": {},
   "outputs": [],
   "source": [
    "max_frc_model.save('max_force.h5')"
   ]
  },
  {
   "cell_type": "markdown",
   "metadata": {},
   "source": [
    "# DECAY RATE MODEL"
   ]
  },
  {
   "cell_type": "code",
   "execution_count": 43,
   "metadata": {},
   "outputs": [],
   "source": [
    "for i in range(len(dec_rate)):\n",
    "    dec_rate[i] = dec_rate[i] -1\n",
    "    \n",
    "train_dec_rate = dec_rate[:5000]\n",
    "\n",
    "NAME5 =\"decay_rate\"\n",
    "tensorboard5 = TensorBoard(log_dir=\"logs/{}\".format(NAME5))\n",
    "\n",
    "dec_rate_model = Sequential([\n",
    "    Dense(units=128, input_shape=(49,), activation='relu'),\n",
    "    Dense(units=256,activation='relu'),\n",
    "    Dense(units=512,activation='relu'),\n",
    "    Dense(units=4, activation='softmax')\n",
    "])\n",
    "\n",
    "dec_rate_model.compile(optimizer=Adam(lr=0.0001),loss='sparse_categorical_crossentropy', metrics=['accuracy'])"
   ]
  },
  {
   "cell_type": "code",
   "execution_count": 44,
   "metadata": {
    "scrolled": true
   },
   "outputs": [
    {
     "name": "stdout",
     "output_type": "stream",
     "text": [
      "Train on 4950 samples, validate on 50 samples\n",
      "Epoch 1/50\n",
      " - 8s - loss: 0.7560 - acc: 0.7053 - val_loss: 0.6323 - val_acc: 0.7800\n",
      "Epoch 2/50\n",
      " - 7s - loss: 0.6134 - acc: 0.7618 - val_loss: 0.5115 - val_acc: 0.8000\n",
      "Epoch 3/50\n",
      " - 8s - loss: 0.5632 - acc: 0.7784 - val_loss: 0.5236 - val_acc: 0.7600\n",
      "Epoch 4/50\n",
      " - 8s - loss: 0.5259 - acc: 0.7893 - val_loss: 0.4402 - val_acc: 0.7800\n",
      "Epoch 5/50\n",
      " - 9s - loss: 0.4984 - acc: 0.7986 - val_loss: 0.4045 - val_acc: 0.7800\n",
      "Epoch 6/50\n",
      " - 8s - loss: 0.4723 - acc: 0.8097 - val_loss: 0.3722 - val_acc: 0.8200\n",
      "Epoch 7/50\n",
      " - 9s - loss: 0.4493 - acc: 0.8172 - val_loss: 0.3638 - val_acc: 0.8600\n",
      "Epoch 8/50\n",
      " - 11s - loss: 0.4310 - acc: 0.8248 - val_loss: 0.3488 - val_acc: 0.8200\n",
      "Epoch 9/50\n",
      " - 10s - loss: 0.4126 - acc: 0.8277 - val_loss: 0.3216 - val_acc: 0.8400\n",
      "Epoch 10/50\n",
      " - 10s - loss: 0.3969 - acc: 0.8315 - val_loss: 0.3630 - val_acc: 0.8200\n",
      "Epoch 11/50\n",
      " - 11s - loss: 0.3791 - acc: 0.8448 - val_loss: 0.2909 - val_acc: 0.8600\n",
      "Epoch 12/50\n",
      " - 10s - loss: 0.3618 - acc: 0.8535 - val_loss: 0.2936 - val_acc: 0.8800\n",
      "Epoch 13/50\n",
      " - 12s - loss: 0.3457 - acc: 0.8646 - val_loss: 0.3025 - val_acc: 0.8200\n",
      "Epoch 14/50\n",
      " - 10s - loss: 0.3331 - acc: 0.8628 - val_loss: 0.3169 - val_acc: 0.8400\n",
      "Epoch 15/50\n",
      " - 8s - loss: 0.3188 - acc: 0.8725 - val_loss: 0.2613 - val_acc: 0.9000\n",
      "Epoch 16/50\n",
      " - 8s - loss: 0.3056 - acc: 0.8788 - val_loss: 0.2656 - val_acc: 0.9200\n",
      "Epoch 17/50\n",
      " - 9s - loss: 0.2967 - acc: 0.8802 - val_loss: 0.2571 - val_acc: 0.9000\n",
      "Epoch 18/50\n",
      " - 8s - loss: 0.2809 - acc: 0.8895 - val_loss: 0.2207 - val_acc: 0.9400\n",
      "Epoch 19/50\n",
      " - 8s - loss: 0.2731 - acc: 0.8937 - val_loss: 0.2508 - val_acc: 0.8800\n",
      "Epoch 20/50\n",
      " - 8s - loss: 0.2610 - acc: 0.9004 - val_loss: 0.2748 - val_acc: 0.8800\n",
      "Epoch 21/50\n",
      " - 9s - loss: 0.2475 - acc: 0.9057 - val_loss: 0.2389 - val_acc: 0.9000\n",
      "Epoch 22/50\n",
      " - 8s - loss: 0.2414 - acc: 0.9097 - val_loss: 0.2390 - val_acc: 0.9000\n",
      "Epoch 23/50\n",
      " - 8s - loss: 0.2308 - acc: 0.9117 - val_loss: 0.2483 - val_acc: 0.8800\n",
      "Epoch 24/50\n",
      " - 10s - loss: 0.2209 - acc: 0.9174 - val_loss: 0.1889 - val_acc: 0.9400\n",
      "Epoch 25/50\n",
      " - 8s - loss: 0.2161 - acc: 0.9143 - val_loss: 0.1965 - val_acc: 0.9400\n",
      "Epoch 26/50\n",
      " - 8s - loss: 0.1992 - acc: 0.9246 - val_loss: 0.2133 - val_acc: 0.9200\n",
      "Epoch 27/50\n",
      " - 8s - loss: 0.1959 - acc: 0.9269 - val_loss: 0.1760 - val_acc: 0.9200\n",
      "Epoch 28/50\n",
      " - 11s - loss: 0.1871 - acc: 0.9297 - val_loss: 0.2012 - val_acc: 0.9400\n",
      "Epoch 29/50\n",
      " - 9s - loss: 0.1894 - acc: 0.9263 - val_loss: 0.1749 - val_acc: 0.9400\n",
      "Epoch 30/50\n",
      " - 9s - loss: 0.1729 - acc: 0.9345 - val_loss: 0.1614 - val_acc: 0.9400\n",
      "Epoch 31/50\n",
      " - 9s - loss: 0.1662 - acc: 0.9406 - val_loss: 0.1750 - val_acc: 0.9400\n",
      "Epoch 32/50\n",
      " - 8s - loss: 0.1624 - acc: 0.9398 - val_loss: 0.1544 - val_acc: 0.9600\n",
      "Epoch 33/50\n",
      " - 8s - loss: 0.1511 - acc: 0.9497 - val_loss: 0.1837 - val_acc: 0.9400\n",
      "Epoch 34/50\n",
      " - 9s - loss: 0.1455 - acc: 0.9471 - val_loss: 0.2426 - val_acc: 0.9200\n",
      "Epoch 35/50\n",
      " - 9s - loss: 0.1472 - acc: 0.9448 - val_loss: 0.1495 - val_acc: 0.9600\n",
      "Epoch 36/50\n",
      " - 8s - loss: 0.1382 - acc: 0.9523 - val_loss: 0.2143 - val_acc: 0.9400\n",
      "Epoch 37/50\n",
      " - 8s - loss: 0.1318 - acc: 0.9535 - val_loss: 0.1976 - val_acc: 0.9200\n",
      "Epoch 38/50\n",
      " - 9s - loss: 0.1303 - acc: 0.9513 - val_loss: 0.0995 - val_acc: 0.9400\n",
      "Epoch 39/50\n",
      " - 8s - loss: 0.1202 - acc: 0.9574 - val_loss: 0.1512 - val_acc: 0.9600\n",
      "Epoch 40/50\n",
      " - 8s - loss: 0.1162 - acc: 0.9600 - val_loss: 0.1469 - val_acc: 0.9600\n",
      "Epoch 41/50\n",
      " - 9s - loss: 0.1092 - acc: 0.9628 - val_loss: 0.1389 - val_acc: 0.9600\n",
      "Epoch 42/50\n",
      " - 9s - loss: 0.1061 - acc: 0.9622 - val_loss: 0.0919 - val_acc: 0.9600\n",
      "Epoch 43/50\n",
      " - 8s - loss: 0.1015 - acc: 0.9665 - val_loss: 0.1016 - val_acc: 0.9600\n",
      "Epoch 44/50\n",
      " - 8s - loss: 0.0951 - acc: 0.9699 - val_loss: 0.1245 - val_acc: 0.9600\n",
      "Epoch 45/50\n",
      " - 9s - loss: 0.1016 - acc: 0.9636 - val_loss: 0.1267 - val_acc: 0.9600\n",
      "Epoch 46/50\n",
      " - 8s - loss: 0.0915 - acc: 0.9689 - val_loss: 0.1112 - val_acc: 0.9400\n",
      "Epoch 47/50\n",
      " - 8s - loss: 0.0940 - acc: 0.9671 - val_loss: 0.0978 - val_acc: 0.9600\n",
      "Epoch 48/50\n",
      " - 10s - loss: 0.0809 - acc: 0.9754 - val_loss: 0.0928 - val_acc: 0.9600\n",
      "Epoch 49/50\n",
      " - 8s - loss: 0.0801 - acc: 0.9731 - val_loss: 0.0751 - val_acc: 0.9800\n",
      "Epoch 50/50\n",
      " - 8s - loss: 0.0777 - acc: 0.9741 - val_loss: 0.1303 - val_acc: 0.9600\n"
     ]
    },
    {
     "data": {
      "text/plain": [
       "<tensorflow.python.keras._impl.keras.callbacks.History at 0x7f3760fc4710>"
      ]
     },
     "execution_count": 44,
     "metadata": {},
     "output_type": "execute_result"
    }
   ],
   "source": [
    "dec_rate_model.fit(x=train_x,\n",
    "                  y=train_dec_rate,\n",
    "                  batch_size=10,\n",
    "                  verbose=2, \n",
    "                  validation_split=.01,\n",
    "                  epochs=50,\n",
    "                  callbacks=[tensorboard5])"
   ]
  },
  {
   "cell_type": "code",
   "execution_count": 45,
   "metadata": {},
   "outputs": [],
   "source": [
    "dec_rate_model.save('decay_rate.h5')"
   ]
  },
  {
   "cell_type": "markdown",
   "metadata": {},
   "source": [
    "# SENSE DIST MODEL"
   ]
  },
  {
   "cell_type": "code",
   "execution_count": 16,
   "metadata": {},
   "outputs": [
    {
     "name": "stdout",
     "output_type": "stream",
     "text": [
      "WARNING:tensorflow:From /home/samuelc/python2env/lib/python2.7/site-packages/tensorflow/python/keras/_impl/keras/backend.py:1557: calling reduce_mean (from tensorflow.python.ops.math_ops) with keep_dims is deprecated and will be removed in a future version.\n",
      "Instructions for updating:\n",
      "keep_dims is deprecated, use keepdims instead\n",
      "WARNING:tensorflow:From /home/samuelc/python2env/lib/python2.7/site-packages/tensorflow/python/keras/_impl/keras/backend.py:1422: calling reduce_max (from tensorflow.python.ops.math_ops) with keep_dims is deprecated and will be removed in a future version.\n",
      "Instructions for updating:\n",
      "keep_dims is deprecated, use keepdims instead\n"
     ]
    }
   ],
   "source": [
    "for i in range(len(sense_dist)):\n",
    "    sense_dist[i] = sense_dist[i] -1\n",
    "    \n",
    "train_sense_dist = sense_dist[:5000]\n",
    "\n",
    "NAME6 =\"sense_dist\"\n",
    "tensorboard6 = TensorBoard(log_dir=\"logs/{}\".format(NAME6))\n",
    "\n",
    "sense_dist_model = Sequential([\n",
    "    Dense(units=128, input_shape=(49,), activation='relu'),\n",
    "    Dense(units=256,activation='relu'),\n",
    "    Dense(units=512,activation='relu'),\n",
    "    Dense(units=12, activation='softmax')\n",
    "])\n",
    "\n",
    "sense_dist_model.compile(optimizer=Adam(lr=0.0001),loss='sparse_categorical_crossentropy', metrics=['accuracy'])"
   ]
  },
  {
   "cell_type": "code",
   "execution_count": 17,
   "metadata": {
    "scrolled": true
   },
   "outputs": [
    {
     "name": "stdout",
     "output_type": "stream",
     "text": [
      "Train on 4950 samples, validate on 50 samples\n",
      "Epoch 1/50\n",
      " - 7s - loss: 1.9955 - acc: 0.3398 - val_loss: 1.8519 - val_acc: 0.3200\n",
      "Epoch 2/50\n",
      " - 7s - loss: 1.6366 - acc: 0.4261 - val_loss: 1.5957 - val_acc: 0.4000\n",
      "Epoch 3/50\n",
      " - 9s - loss: 1.4617 - acc: 0.4715 - val_loss: 1.4702 - val_acc: 0.4400\n",
      "Epoch 4/50\n",
      " - 7s - loss: 1.3487 - acc: 0.5204 - val_loss: 1.3969 - val_acc: 0.4600\n",
      "Epoch 5/50\n",
      " - 7s - loss: 1.2730 - acc: 0.5465 - val_loss: 1.3148 - val_acc: 0.4800\n",
      "Epoch 6/50\n",
      " - 7s - loss: 1.2046 - acc: 0.5703 - val_loss: 1.2518 - val_acc: 0.5000\n",
      "Epoch 7/50\n",
      " - 9s - loss: 1.1510 - acc: 0.5848 - val_loss: 1.1376 - val_acc: 0.5200\n",
      "Epoch 8/50\n",
      " - 9s - loss: 1.1042 - acc: 0.6057 - val_loss: 1.1257 - val_acc: 0.6000\n",
      "Epoch 9/50\n",
      " - 9s - loss: 1.0650 - acc: 0.6246 - val_loss: 1.0663 - val_acc: 0.5800\n",
      "Epoch 10/50\n",
      " - 9s - loss: 1.0362 - acc: 0.6319 - val_loss: 1.0250 - val_acc: 0.5400\n",
      "Epoch 11/50\n",
      " - 9s - loss: 1.0077 - acc: 0.6434 - val_loss: 1.0465 - val_acc: 0.6200\n",
      "Epoch 12/50\n",
      " - 8s - loss: 0.9786 - acc: 0.6586 - val_loss: 0.9954 - val_acc: 0.5800\n",
      "Epoch 13/50\n",
      " - 9s - loss: 0.9539 - acc: 0.6661 - val_loss: 0.9289 - val_acc: 0.6600\n",
      "Epoch 14/50\n",
      " - 8s - loss: 0.9316 - acc: 0.6735 - val_loss: 0.9310 - val_acc: 0.6600\n",
      "Epoch 15/50\n",
      " - 8s - loss: 0.9112 - acc: 0.6891 - val_loss: 0.9014 - val_acc: 0.7200\n",
      "Epoch 16/50\n",
      " - 8s - loss: 0.8891 - acc: 0.6947 - val_loss: 0.8833 - val_acc: 0.7200\n",
      "Epoch 17/50\n",
      " - 9s - loss: 0.8688 - acc: 0.6996 - val_loss: 0.8506 - val_acc: 0.7600\n",
      "Epoch 18/50\n",
      " - 8s - loss: 0.8482 - acc: 0.7095 - val_loss: 0.8449 - val_acc: 0.6800\n",
      "Epoch 19/50\n",
      " - 8s - loss: 0.8288 - acc: 0.7188 - val_loss: 0.8091 - val_acc: 0.7200\n",
      "Epoch 20/50\n",
      " - 8s - loss: 0.8132 - acc: 0.7224 - val_loss: 0.7993 - val_acc: 0.7800\n",
      "Epoch 21/50\n",
      " - 9s - loss: 0.7938 - acc: 0.7343 - val_loss: 0.7783 - val_acc: 0.7200\n",
      "Epoch 22/50\n",
      " - 8s - loss: 0.7778 - acc: 0.7378 - val_loss: 0.7661 - val_acc: 0.7800\n",
      "Epoch 23/50\n",
      " - 8s - loss: 0.7608 - acc: 0.7469 - val_loss: 0.7534 - val_acc: 0.8000\n",
      "Epoch 24/50\n",
      " - 9s - loss: 0.7416 - acc: 0.7588 - val_loss: 0.7617 - val_acc: 0.7400\n",
      "Epoch 25/50\n",
      " - 8s - loss: 0.7269 - acc: 0.7590 - val_loss: 0.7228 - val_acc: 0.7600\n",
      "Epoch 26/50\n",
      " - 8s - loss: 0.7115 - acc: 0.7600 - val_loss: 0.6948 - val_acc: 0.7800\n",
      "Epoch 27/50\n",
      " - 8s - loss: 0.7000 - acc: 0.7661 - val_loss: 0.6836 - val_acc: 0.7800\n",
      "Epoch 28/50\n",
      " - 9s - loss: 0.6821 - acc: 0.7772 - val_loss: 0.6830 - val_acc: 0.8000\n",
      "Epoch 29/50\n",
      " - 8s - loss: 0.6695 - acc: 0.7830 - val_loss: 0.6632 - val_acc: 0.8200\n",
      "Epoch 30/50\n",
      " - 8s - loss: 0.6503 - acc: 0.7907 - val_loss: 0.6177 - val_acc: 0.8200\n",
      "Epoch 31/50\n",
      " - 9s - loss: 0.6402 - acc: 0.7941 - val_loss: 0.6546 - val_acc: 0.8200\n",
      "Epoch 32/50\n",
      " - 8s - loss: 0.6236 - acc: 0.7970 - val_loss: 0.6349 - val_acc: 0.8400\n",
      "Epoch 33/50\n",
      " - 8s - loss: 0.6125 - acc: 0.8073 - val_loss: 0.6289 - val_acc: 0.8000\n",
      "Epoch 34/50\n",
      " - 9s - loss: 0.5995 - acc: 0.8075 - val_loss: 0.6098 - val_acc: 0.8400\n",
      "Epoch 35/50\n",
      " - 9s - loss: 0.5811 - acc: 0.8168 - val_loss: 0.5926 - val_acc: 0.8000\n",
      "Epoch 36/50\n",
      " - 8s - loss: 0.5726 - acc: 0.8186 - val_loss: 0.5762 - val_acc: 0.8400\n",
      "Epoch 37/50\n",
      " - 8s - loss: 0.5546 - acc: 0.8206 - val_loss: 0.6045 - val_acc: 0.8400\n",
      "Epoch 38/50\n",
      " - 13s - loss: 0.5486 - acc: 0.8234 - val_loss: 0.5821 - val_acc: 0.8400\n",
      "Epoch 39/50\n",
      " - 8s - loss: 0.5271 - acc: 0.8378 - val_loss: 0.5180 - val_acc: 0.8400\n",
      "Epoch 40/50\n",
      " - 8s - loss: 0.5218 - acc: 0.8376 - val_loss: 0.5320 - val_acc: 0.8200\n",
      "Epoch 41/50\n",
      " - 8s - loss: 0.5023 - acc: 0.8404 - val_loss: 0.5561 - val_acc: 0.8200\n",
      "Epoch 42/50\n",
      " - 10s - loss: 0.4926 - acc: 0.8487 - val_loss: 0.5271 - val_acc: 0.8600\n",
      "Epoch 43/50\n",
      " - 8s - loss: 0.4826 - acc: 0.8554 - val_loss: 0.5257 - val_acc: 0.8400\n",
      "Epoch 44/50\n",
      " - 8s - loss: 0.4702 - acc: 0.8602 - val_loss: 0.5195 - val_acc: 0.7800\n",
      "Epoch 45/50\n",
      " - 9s - loss: 0.4609 - acc: 0.8602 - val_loss: 0.5528 - val_acc: 0.8400\n",
      "Epoch 46/50\n",
      " - 8s - loss: 0.4483 - acc: 0.8642 - val_loss: 0.4875 - val_acc: 0.8200\n",
      "Epoch 47/50\n",
      " - 8s - loss: 0.4349 - acc: 0.8677 - val_loss: 0.4635 - val_acc: 0.8200\n",
      "Epoch 48/50\n",
      " - 8s - loss: 0.4246 - acc: 0.8685 - val_loss: 0.4432 - val_acc: 0.8600\n",
      "Epoch 49/50\n",
      " - 9s - loss: 0.4179 - acc: 0.8727 - val_loss: 0.4820 - val_acc: 0.8200\n",
      "Epoch 50/50\n",
      " - 8s - loss: 0.4064 - acc: 0.8774 - val_loss: 0.4315 - val_acc: 0.8600\n"
     ]
    },
    {
     "data": {
      "text/plain": [
       "<tensorflow.python.keras._impl.keras.callbacks.History at 0x7f731ffafe50>"
      ]
     },
     "execution_count": 17,
     "metadata": {},
     "output_type": "execute_result"
    }
   ],
   "source": [
    "sense_dist_model.fit(x=train_x,\n",
    "                  y=train_sense_dist,\n",
    "                  batch_size=10,\n",
    "                  verbose=2, \n",
    "                  validation_split=.01,\n",
    "                  epochs=50,\n",
    "                  callbacks=[tensorboard6])"
   ]
  },
  {
   "cell_type": "code",
   "execution_count": 18,
   "metadata": {},
   "outputs": [],
   "source": [
    "sense_dist_model.save('sense_dist.h5')"
   ]
  },
  {
   "cell_type": "markdown",
   "metadata": {},
   "source": [
    "# SLOPE STEP MODEL"
   ]
  },
  {
   "cell_type": "code",
   "execution_count": 16,
   "metadata": {},
   "outputs": [
    {
     "name": "stdout",
     "output_type": "stream",
     "text": [
      "WARNING:tensorflow:From /home/samuelc/python2env/lib/python2.7/site-packages/tensorflow/python/keras/_impl/keras/backend.py:1557: calling reduce_mean (from tensorflow.python.ops.math_ops) with keep_dims is deprecated and will be removed in a future version.\n",
      "Instructions for updating:\n",
      "keep_dims is deprecated, use keepdims instead\n",
      "WARNING:tensorflow:From /home/samuelc/python2env/lib/python2.7/site-packages/tensorflow/python/keras/_impl/keras/backend.py:1422: calling reduce_max (from tensorflow.python.ops.math_ops) with keep_dims is deprecated and will be removed in a future version.\n",
      "Instructions for updating:\n",
      "keep_dims is deprecated, use keepdims instead\n"
     ]
    }
   ],
   "source": [
    "for i in range(len(slope_step)):\n",
    "    slope_step[i] = slope_step[i] -1\n",
    "    \n",
    "train_slope_step = slope_step[:5000]\n",
    "\n",
    "NAME7 =\"slope_step\"\n",
    "tensorboard7 = TensorBoard(log_dir=\"logs/{}\".format(NAME7))\n",
    "\n",
    "slope_step_model = Sequential([\n",
    "    Dense(units=128, input_shape=(49,), activation='relu'),\n",
    "    Dense(units=256,activation='relu'),\n",
    "    Dense(units=512,activation='relu'),\n",
    "    Dense(units=6, activation='softmax')\n",
    "])\n",
    "\n",
    "slope_step_model.compile(optimizer=Adam(lr=0.0001),loss='sparse_categorical_crossentropy', metrics=['accuracy'])"
   ]
  },
  {
   "cell_type": "code",
   "execution_count": 17,
   "metadata": {
    "scrolled": true
   },
   "outputs": [
    {
     "name": "stdout",
     "output_type": "stream",
     "text": [
      "Train on 4950 samples, validate on 50 samples\n",
      "Epoch 1/50\n",
      " - 10s - loss: 0.6623 - acc: 0.8214 - val_loss: 0.4944 - val_acc: 0.8600\n",
      "Epoch 2/50\n",
      " - 9s - loss: 0.4736 - acc: 0.8580 - val_loss: 0.3721 - val_acc: 0.8600\n",
      "Epoch 3/50\n",
      " - 9s - loss: 0.4044 - acc: 0.8745 - val_loss: 0.3326 - val_acc: 0.9000\n",
      "Epoch 4/50\n",
      " - 10s - loss: 0.3541 - acc: 0.8875 - val_loss: 0.2873 - val_acc: 0.9000\n",
      "Epoch 5/50\n",
      " - 9s - loss: 0.3096 - acc: 0.8966 - val_loss: 0.2772 - val_acc: 0.9200\n",
      "Epoch 6/50\n",
      " - 10s - loss: 0.2809 - acc: 0.9038 - val_loss: 0.2608 - val_acc: 0.9000\n",
      "Epoch 7/50\n",
      " - 10s - loss: 0.2566 - acc: 0.9117 - val_loss: 0.2479 - val_acc: 0.9200\n",
      "Epoch 8/50\n",
      " - 9s - loss: 0.2377 - acc: 0.9204 - val_loss: 0.2421 - val_acc: 0.9200\n",
      "Epoch 9/50\n",
      " - 8s - loss: 0.2227 - acc: 0.9285 - val_loss: 0.2173 - val_acc: 0.9200\n",
      "Epoch 10/50\n",
      " - 8s - loss: 0.2108 - acc: 0.9275 - val_loss: 0.2122 - val_acc: 0.9400\n",
      "Epoch 11/50\n",
      " - 9s - loss: 0.1986 - acc: 0.9362 - val_loss: 0.2022 - val_acc: 0.9200\n",
      "Epoch 12/50\n",
      " - 8s - loss: 0.1843 - acc: 0.9394 - val_loss: 0.2063 - val_acc: 0.9200\n",
      "Epoch 13/50\n",
      " - 8s - loss: 0.1744 - acc: 0.9404 - val_loss: 0.1740 - val_acc: 0.9400\n",
      "Epoch 14/50\n",
      " - 9s - loss: 0.1700 - acc: 0.9440 - val_loss: 0.1725 - val_acc: 0.9600\n",
      "Epoch 15/50\n",
      " - 10s - loss: 0.1555 - acc: 0.9493 - val_loss: 0.1807 - val_acc: 0.9600\n",
      "Epoch 16/50\n",
      " - 8s - loss: 0.1498 - acc: 0.9493 - val_loss: 0.1732 - val_acc: 0.9400\n",
      "Epoch 17/50\n",
      " - 9s - loss: 0.1410 - acc: 0.9513 - val_loss: 0.1645 - val_acc: 0.9600\n",
      "Epoch 18/50\n",
      " - 11s - loss: 0.1346 - acc: 0.9537 - val_loss: 0.1662 - val_acc: 0.9400\n",
      "Epoch 19/50\n",
      " - 9s - loss: 0.1298 - acc: 0.9564 - val_loss: 0.1504 - val_acc: 0.9800\n",
      "Epoch 20/50\n",
      " - 9s - loss: 0.1229 - acc: 0.9570 - val_loss: 0.1393 - val_acc: 0.9600\n",
      "Epoch 21/50\n",
      " - 10s - loss: 0.1151 - acc: 0.9606 - val_loss: 0.1512 - val_acc: 0.9600\n",
      "Epoch 22/50\n",
      " - 9s - loss: 0.1083 - acc: 0.9642 - val_loss: 0.1139 - val_acc: 0.9800\n",
      "Epoch 23/50\n",
      " - 9s - loss: 0.1038 - acc: 0.9642 - val_loss: 0.1540 - val_acc: 0.9400\n",
      "Epoch 24/50\n",
      " - 10s - loss: 0.0954 - acc: 0.9653 - val_loss: 0.1190 - val_acc: 0.9800\n",
      "Epoch 25/50\n",
      " - 9s - loss: 0.0910 - acc: 0.9705 - val_loss: 0.0958 - val_acc: 0.9600\n",
      "Epoch 26/50\n",
      " - 9s - loss: 0.0857 - acc: 0.9723 - val_loss: 0.0984 - val_acc: 0.9800\n",
      "Epoch 27/50\n",
      " - 10s - loss: 0.0828 - acc: 0.9754 - val_loss: 0.1018 - val_acc: 0.9800\n",
      "Epoch 28/50\n",
      " - 9s - loss: 0.0795 - acc: 0.9729 - val_loss: 0.0737 - val_acc: 0.9800\n",
      "Epoch 29/50\n",
      " - 9s - loss: 0.0716 - acc: 0.9764 - val_loss: 0.0800 - val_acc: 0.9800\n",
      "Epoch 30/50\n",
      " - 10s - loss: 0.0695 - acc: 0.9782 - val_loss: 0.0787 - val_acc: 0.9800\n",
      "Epoch 31/50\n",
      " - 9s - loss: 0.0666 - acc: 0.9796 - val_loss: 0.0983 - val_acc: 0.9600\n",
      "Epoch 32/50\n",
      " - 9s - loss: 0.0617 - acc: 0.9818 - val_loss: 0.0953 - val_acc: 0.9600\n",
      "Epoch 33/50\n",
      " - 9s - loss: 0.0607 - acc: 0.9818 - val_loss: 0.0858 - val_acc: 0.9600\n",
      "Epoch 34/50\n",
      " - 10s - loss: 0.0575 - acc: 0.9818 - val_loss: 0.0956 - val_acc: 0.9600\n",
      "Epoch 35/50\n",
      " - 9s - loss: 0.0531 - acc: 0.9840 - val_loss: 0.1655 - val_acc: 0.9200\n",
      "Epoch 36/50\n",
      " - 9s - loss: 0.0524 - acc: 0.9840 - val_loss: 0.0737 - val_acc: 0.9800\n",
      "Epoch 37/50\n",
      " - 11s - loss: 0.0485 - acc: 0.9859 - val_loss: 0.0553 - val_acc: 0.9800\n",
      "Epoch 38/50\n",
      " - 10s - loss: 0.0516 - acc: 0.9838 - val_loss: 0.0619 - val_acc: 0.9800\n",
      "Epoch 39/50\n",
      " - 8s - loss: 0.0458 - acc: 0.9859 - val_loss: 0.0616 - val_acc: 0.9800\n",
      "Epoch 40/50\n",
      " - 12s - loss: 0.0432 - acc: 0.9857 - val_loss: 0.0730 - val_acc: 0.9800\n",
      "Epoch 41/50\n",
      " - 12s - loss: 0.0420 - acc: 0.9871 - val_loss: 0.1269 - val_acc: 0.9400\n",
      "Epoch 42/50\n",
      " - 13s - loss: 0.0412 - acc: 0.9887 - val_loss: 0.0821 - val_acc: 0.9800\n",
      "Epoch 43/50\n",
      " - 12s - loss: 0.0369 - acc: 0.9895 - val_loss: 0.0553 - val_acc: 0.9800\n",
      "Epoch 44/50\n",
      " - 9s - loss: 0.0348 - acc: 0.9919 - val_loss: 0.1231 - val_acc: 0.9600\n",
      "Epoch 45/50\n",
      " - 10s - loss: 0.0344 - acc: 0.9903 - val_loss: 0.1127 - val_acc: 0.9600\n",
      "Epoch 46/50\n",
      " - 9s - loss: 0.0338 - acc: 0.9895 - val_loss: 0.0657 - val_acc: 0.9800\n",
      "Epoch 47/50\n",
      " - 9s - loss: 0.0283 - acc: 0.9919 - val_loss: 0.0887 - val_acc: 0.9600\n",
      "Epoch 48/50\n",
      " - 9s - loss: 0.0295 - acc: 0.9927 - val_loss: 0.0308 - val_acc: 0.9800\n",
      "Epoch 49/50\n",
      " - 9s - loss: 0.0290 - acc: 0.9915 - val_loss: 0.0696 - val_acc: 0.9600\n",
      "Epoch 50/50\n",
      " - 9s - loss: 0.0306 - acc: 0.9907 - val_loss: 0.0730 - val_acc: 0.9600\n"
     ]
    },
    {
     "data": {
      "text/plain": [
       "<tensorflow.python.keras._impl.keras.callbacks.History at 0x7ff132eefe90>"
      ]
     },
     "execution_count": 17,
     "metadata": {},
     "output_type": "execute_result"
    }
   ],
   "source": [
    "slope_step_model.fit(x=train_x,\n",
    "                  y=train_slope_step,\n",
    "                  batch_size=10,\n",
    "                  verbose=2, \n",
    "                  validation_split=.01,\n",
    "                  epochs=50,\n",
    "                  callbacks=[tensorboard7])"
   ]
  },
  {
   "cell_type": "code",
   "execution_count": 18,
   "metadata": {},
   "outputs": [],
   "source": [
    "slope_step_model.save('slope_step.h5')"
   ]
  },
  {
   "cell_type": "markdown",
   "metadata": {},
   "source": [
    "# DISPLACE SIZE MODEL"
   ]
  },
  {
   "cell_type": "code",
   "execution_count": 19,
   "metadata": {},
   "outputs": [],
   "source": [
    "for i in range(len(disp_size)):\n",
    "    disp_size[i] = disp_size[i] -1\n",
    "    \n",
    "train_disp_size =disp_size[:5000]\n",
    "\n",
    "NAME8 =\"displace_size\"\n",
    "tensorboard8 = TensorBoard(log_dir=\"logs/{}\".format(NAME8))\n",
    "\n",
    "disp_size_model = Sequential([\n",
    "    Dense(units=128, input_shape=(49,), activation='relu'),\n",
    "    Dense(units=256,activation='relu'),\n",
    "    Dense(units=512,activation='relu'),\n",
    "    Dense(units=8, activation='softmax')\n",
    "])\n",
    "\n",
    "disp_size_model.compile(optimizer=Adam(lr=0.0001),loss='sparse_categorical_crossentropy', metrics=['accuracy'])"
   ]
  },
  {
   "cell_type": "code",
   "execution_count": 20,
   "metadata": {
    "scrolled": true
   },
   "outputs": [
    {
     "name": "stdout",
     "output_type": "stream",
     "text": [
      "Train on 4950 samples, validate on 50 samples\n",
      "Epoch 1/50\n",
      " - 7s - loss: 0.6983 - acc: 0.8299 - val_loss: 0.5155 - val_acc: 0.8600\n",
      "Epoch 2/50\n",
      " - 7s - loss: 0.4853 - acc: 0.8590 - val_loss: 0.4300 - val_acc: 0.8800\n",
      "Epoch 3/50\n",
      " - 8s - loss: 0.4068 - acc: 0.8719 - val_loss: 0.3596 - val_acc: 0.8800\n",
      "Epoch 4/50\n",
      " - 8s - loss: 0.3585 - acc: 0.8830 - val_loss: 0.3363 - val_acc: 0.8800\n",
      "Epoch 5/50\n",
      " - 6s - loss: 0.3188 - acc: 0.8941 - val_loss: 0.3117 - val_acc: 0.8800\n",
      "Epoch 6/50\n",
      " - 8s - loss: 0.2958 - acc: 0.9008 - val_loss: 0.2962 - val_acc: 0.9000\n",
      "Epoch 7/50\n",
      " - 7s - loss: 0.2709 - acc: 0.9065 - val_loss: 0.2849 - val_acc: 0.8800\n",
      "Epoch 8/50\n",
      " - 7s - loss: 0.2570 - acc: 0.9111 - val_loss: 0.2901 - val_acc: 0.9000\n",
      "Epoch 9/50\n",
      " - 7s - loss: 0.2454 - acc: 0.9184 - val_loss: 0.2720 - val_acc: 0.9000\n",
      "Epoch 10/50\n",
      " - 8s - loss: 0.2311 - acc: 0.9238 - val_loss: 0.2529 - val_acc: 0.8800\n",
      "Epoch 11/50\n",
      " - 7s - loss: 0.2209 - acc: 0.9275 - val_loss: 0.2405 - val_acc: 0.9000\n",
      "Epoch 12/50\n",
      " - 7s - loss: 0.2085 - acc: 0.9315 - val_loss: 0.2418 - val_acc: 0.8800\n",
      "Epoch 13/50\n",
      " - 8s - loss: 0.2009 - acc: 0.9327 - val_loss: 0.2488 - val_acc: 0.9400\n",
      "Epoch 14/50\n",
      " - 9s - loss: 0.1925 - acc: 0.9372 - val_loss: 0.2124 - val_acc: 0.9200\n",
      "Epoch 15/50\n",
      " - 8s - loss: 0.1882 - acc: 0.9374 - val_loss: 0.2235 - val_acc: 0.9200\n",
      "Epoch 16/50\n",
      " - 9s - loss: 0.1800 - acc: 0.9408 - val_loss: 0.2250 - val_acc: 0.9000\n",
      "Epoch 17/50\n",
      " - 9s - loss: 0.1714 - acc: 0.9422 - val_loss: 0.1875 - val_acc: 0.9400\n",
      "Epoch 18/50\n",
      " - 9s - loss: 0.1621 - acc: 0.9461 - val_loss: 0.1889 - val_acc: 0.9400\n",
      "Epoch 19/50\n",
      " - 8s - loss: 0.1549 - acc: 0.9467 - val_loss: 0.1789 - val_acc: 0.9600\n",
      "Epoch 20/50\n",
      " - 8s - loss: 0.1515 - acc: 0.9493 - val_loss: 0.2205 - val_acc: 0.9400\n",
      "Epoch 21/50\n",
      " - 10s - loss: 0.1484 - acc: 0.9493 - val_loss: 0.1632 - val_acc: 0.9400\n",
      "Epoch 22/50\n",
      " - 8s - loss: 0.1374 - acc: 0.9539 - val_loss: 0.1669 - val_acc: 0.9600\n",
      "Epoch 23/50\n",
      " - 8s - loss: 0.1364 - acc: 0.9543 - val_loss: 0.1714 - val_acc: 0.9400\n",
      "Epoch 24/50\n",
      " - 10s - loss: 0.1291 - acc: 0.9535 - val_loss: 0.1516 - val_acc: 0.9400\n",
      "Epoch 25/50\n",
      " - 8s - loss: 0.1238 - acc: 0.9592 - val_loss: 0.1659 - val_acc: 0.9800\n",
      "Epoch 26/50\n",
      " - 8s - loss: 0.1153 - acc: 0.9620 - val_loss: 0.1271 - val_acc: 0.9600\n",
      "Epoch 27/50\n",
      " - 8s - loss: 0.1158 - acc: 0.9588 - val_loss: 0.1378 - val_acc: 0.9800\n",
      "Epoch 28/50\n",
      " - 9s - loss: 0.1098 - acc: 0.9626 - val_loss: 0.1100 - val_acc: 0.9800\n",
      "Epoch 29/50\n",
      " - 8s - loss: 0.1020 - acc: 0.9646 - val_loss: 0.1204 - val_acc: 0.9800\n",
      "Epoch 30/50\n",
      " - 9s - loss: 0.0984 - acc: 0.9675 - val_loss: 0.1353 - val_acc: 0.9600\n",
      "Epoch 31/50\n",
      " - 10s - loss: 0.0953 - acc: 0.9669 - val_loss: 0.0832 - val_acc: 0.9800\n",
      "Epoch 32/50\n",
      " - 8s - loss: 0.0908 - acc: 0.9707 - val_loss: 0.1227 - val_acc: 0.9600\n",
      "Epoch 33/50\n",
      " - 8s - loss: 0.0877 - acc: 0.9713 - val_loss: 0.1145 - val_acc: 0.9600\n",
      "Epoch 34/50\n",
      " - 9s - loss: 0.0857 - acc: 0.9729 - val_loss: 0.1121 - val_acc: 0.9800\n",
      "Epoch 35/50\n",
      " - 10s - loss: 0.0823 - acc: 0.9737 - val_loss: 0.1286 - val_acc: 0.9800\n",
      "Epoch 36/50\n",
      " - 10s - loss: 0.0817 - acc: 0.9729 - val_loss: 0.0990 - val_acc: 0.9800\n",
      "Epoch 37/50\n",
      " - 8s - loss: 0.0773 - acc: 0.9758 - val_loss: 0.0926 - val_acc: 0.9600\n",
      "Epoch 38/50\n",
      " - 8s - loss: 0.0731 - acc: 0.9766 - val_loss: 0.0882 - val_acc: 0.9800\n",
      "Epoch 39/50\n",
      " - 8s - loss: 0.0706 - acc: 0.9762 - val_loss: 0.1086 - val_acc: 0.9800\n",
      "Epoch 40/50\n",
      " - 8s - loss: 0.0757 - acc: 0.9739 - val_loss: 0.1566 - val_acc: 0.9400\n",
      "Epoch 41/50\n",
      " - 9s - loss: 0.0659 - acc: 0.9776 - val_loss: 0.1200 - val_acc: 0.9400\n",
      "Epoch 42/50\n",
      " - 8s - loss: 0.0631 - acc: 0.9800 - val_loss: 0.0887 - val_acc: 0.9800\n",
      "Epoch 43/50\n",
      " - 8s - loss: 0.0659 - acc: 0.9778 - val_loss: 0.0740 - val_acc: 0.9600\n",
      "Epoch 44/50\n",
      " - 8s - loss: 0.0629 - acc: 0.9812 - val_loss: 0.0803 - val_acc: 0.9800\n",
      "Epoch 45/50\n",
      " - 9s - loss: 0.0573 - acc: 0.9830 - val_loss: 0.0696 - val_acc: 0.9800\n",
      "Epoch 46/50\n",
      " - 8s - loss: 0.0587 - acc: 0.9804 - val_loss: 0.0744 - val_acc: 0.9600\n",
      "Epoch 47/50\n",
      " - 8s - loss: 0.0526 - acc: 0.9834 - val_loss: 0.0834 - val_acc: 0.9600\n",
      "Epoch 48/50\n",
      " - 8s - loss: 0.0515 - acc: 0.9836 - val_loss: 0.0725 - val_acc: 0.9800\n",
      "Epoch 49/50\n",
      " - 9s - loss: 0.0499 - acc: 0.9836 - val_loss: 0.0924 - val_acc: 0.9800\n",
      "Epoch 50/50\n",
      " - 8s - loss: 0.0523 - acc: 0.9838 - val_loss: 0.1135 - val_acc: 0.9800\n"
     ]
    },
    {
     "data": {
      "text/plain": [
       "<tensorflow.python.keras._impl.keras.callbacks.History at 0x7ff1333d23d0>"
      ]
     },
     "execution_count": 20,
     "metadata": {},
     "output_type": "execute_result"
    }
   ],
   "source": [
    "disp_size_model.fit(x=train_x,\n",
    "                  y=train_disp_size,\n",
    "                  batch_size=10,\n",
    "                  verbose=2, \n",
    "                  validation_split=.01,\n",
    "                  epochs=50,\n",
    "                  callbacks=[tensorboard8])"
   ]
  },
  {
   "cell_type": "code",
   "execution_count": 21,
   "metadata": {},
   "outputs": [],
   "source": [
    "disp_size_model.save('displace_size.h5')"
   ]
  }
 ],
 "metadata": {
  "kernelspec": {
   "display_name": "Python 3",
   "language": "python",
   "name": "python3"
  },
  "language_info": {
   "codemirror_mode": {
    "name": "ipython",
    "version": 3
   },
   "file_extension": ".py",
   "mimetype": "text/x-python",
   "name": "python",
   "nbconvert_exporter": "python",
   "pygments_lexer": "ipython3",
   "version": "3.8.6"
  }
 },
 "nbformat": 4,
 "nbformat_minor": 4
}
