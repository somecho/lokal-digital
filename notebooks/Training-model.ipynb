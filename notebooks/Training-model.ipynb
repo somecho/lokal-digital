{
 "cells": [
  {
   "cell_type": "code",
   "execution_count": 4,
   "metadata": {},
   "outputs": [],
   "source": [
    "import tensorflow as tf\n",
    "from tensorflow import keras\n",
    "from tensorflow.python.keras.layers import Dense, Activation\n",
    "from tensorflow.python.keras.models import Sequential\n",
    "from tensorflow.python.keras.optimizers import Adam\n",
    "from tensorflow.python.keras.metrics import categorical_crossentropy\n",
    "from tensorflow.python.keras.callbacks import TensorBoard"
   ]
  },
  {
   "cell_type": "code",
   "execution_count": 48,
   "metadata": {},
   "outputs": [],
   "source": [
    "NAME1 =\"num_dir_model_test_normalized\"\n",
    "tensorboard1 = TensorBoard(log_dir=\"logs/{}\".format(NAME1))"
   ]
  },
  {
   "cell_type": "code",
   "execution_count": 40,
   "metadata": {},
   "outputs": [],
   "source": [
    "%store -r num_dirs\n",
    "%store -r deposit_amt\n",
    "%store -r max_speed\n",
    "%store -r max_force\n",
    "%store -r decay_rate\n",
    "%store -r sense_dist\n",
    "%store -r slope_size\n",
    "%store -r displace_size\n",
    "%store -r dataset_scaled_nolabels"
   ]
  },
  {
   "cell_type": "code",
   "execution_count": 41,
   "metadata": {},
   "outputs": [],
   "source": [
    "num_dirs = num_dirs - 1"
   ]
  },
  {
   "cell_type": "code",
   "execution_count": 46,
   "metadata": {},
   "outputs": [
    {
     "data": {
      "text/plain": [
       "12.0"
      ]
     },
     "execution_count": 46,
     "metadata": {},
     "output_type": "execute_result"
    }
   ],
   "source": [
    "num_dirs.max()"
   ]
  },
  {
   "cell_type": "code",
   "execution_count": 47,
   "metadata": {},
   "outputs": [],
   "source": [
    "from sklearn.preprocessing import MinMaxScaler\n",
    "scaler = MinMaxScaler(feature_range=(0,1))\n",
    "x_norm = scaler.fit_transform(dataset_scaled_nolabels)"
   ]
  },
  {
   "cell_type": "code",
   "execution_count": 49,
   "metadata": {},
   "outputs": [],
   "source": [
    "num_dir_model = Sequential([\n",
    "    Dense(units=64, input_shape=(48,),activation='relu'),\n",
    "    Dense(units=64, activation='relu'),\n",
    "    Dense(units=128, activation='relu'),\n",
    "    Dense(units=256, activation='relu'),\n",
    "    Dense(units=512, activation='relu'),\n",
    "    Dense(units=13, activation='softmax')\n",
    "])\n",
    "\n",
    "num_dir_model.compile(optimizer=Adam(lr=0.0001),loss='sparse_categorical_crossentropy',metrics=['accuracy'])"
   ]
  },
  {
   "cell_type": "code",
   "execution_count": 50,
   "metadata": {},
   "outputs": [
    {
     "name": "stdout",
     "output_type": "stream",
     "text": [
      "Train on 4950 samples, validate on 50 samples\n",
      "Epoch 1/10\n",
      " - 7s - loss: 1.1908 - acc: 0.5354 - val_loss: 2.6900 - val_acc: 0.0000e+00\n",
      "Epoch 2/10\n",
      " - 7s - loss: 0.6866 - acc: 0.7354 - val_loss: 2.4489 - val_acc: 0.0000e+00\n",
      "Epoch 3/10\n",
      " - 7s - loss: 0.5008 - acc: 0.8251 - val_loss: 2.2449 - val_acc: 0.0000e+00\n",
      "Epoch 4/10\n",
      " - 8s - loss: 0.3745 - acc: 0.8768 - val_loss: 2.1009 - val_acc: 0.0000e+00\n",
      "Epoch 5/10\n",
      " - 8s - loss: 0.2889 - acc: 0.9061 - val_loss: 2.1450 - val_acc: 0.0000e+00\n",
      "Epoch 6/10\n",
      " - 7s - loss: 0.2254 - acc: 0.9273 - val_loss: 2.2899 - val_acc: 0.0000e+00\n",
      "Epoch 7/10\n",
      " - 8s - loss: 0.1753 - acc: 0.9481 - val_loss: 2.2065 - val_acc: 0.0000e+00\n",
      "Epoch 8/10\n",
      " - 8s - loss: 0.1375 - acc: 0.9574 - val_loss: 2.9047 - val_acc: 0.0000e+00\n",
      "Epoch 9/10\n",
      " - 8s - loss: 0.1024 - acc: 0.9733 - val_loss: 2.8429 - val_acc: 0.0000e+00\n",
      "Epoch 10/10\n",
      " - 8s - loss: 0.0834 - acc: 0.9760 - val_loss: 2.6947 - val_acc: 0.0000e+00\n"
     ]
    },
    {
     "data": {
      "text/plain": [
       "<tensorflow.python.keras._impl.keras.callbacks.History at 0x7fc631bd4ed0>"
      ]
     },
     "execution_count": 50,
     "metadata": {},
     "output_type": "execute_result"
    }
   ],
   "source": [
    "num_dir_model.fit(x=x_norm[:5000,:],\n",
    "                  y=num_dirs[:5000],\n",
    "                  batch_size=10,\n",
    "                  verbose=2, \n",
    "                  validation_split=.01,\n",
    "                  epochs=10,\n",
    "                  callbacks=[tensorboard1])"
   ]
  }
 ],
 "metadata": {
  "kernelspec": {
   "display_name": "Python 3",
   "language": "python",
   "name": "python3"
  },
  "language_info": {
   "codemirror_mode": {
    "name": "ipython",
    "version": 3
   },
   "file_extension": ".py",
   "mimetype": "text/x-python",
   "name": "python",
   "nbconvert_exporter": "python",
   "pygments_lexer": "ipython3",
   "version": "3.8.6"
  }
 },
 "nbformat": 4,
 "nbformat_minor": 4
}
